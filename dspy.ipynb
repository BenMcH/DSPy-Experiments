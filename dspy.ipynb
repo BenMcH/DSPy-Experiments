{
 "cells": [
  {
   "cell_type": "code",
   "execution_count": null,
   "metadata": {},
   "outputs": [],
   "source": [
    "import pandas as pd\n",
    "\n",
    "dataset = pd.read_csv(\"./sms-spam/collection.tsv\", sep=\"\\t\", names=[\"classification\", \"text\"])"
   ]
  },
  {
   "cell_type": "code",
   "execution_count": null,
   "metadata": {},
   "outputs": [
    {
     "name": "stderr",
     "output_type": "stream",
     "text": [
      "Attempting to instrument while already instrumented\n",
      "Attempting to instrument while already instrumented\n"
     ]
    },
    {
     "name": "stdout",
     "output_type": "stream",
     "text": [
      "🔭 OpenTelemetry Tracing Details 🔭\n",
      "|  Phoenix Project: dspy\n",
      "|  Span Processor: SimpleSpanProcessor\n",
      "|  Collector Endpoint: http://localhost:6006/v1/traces\n",
      "|  Transport: HTTP + protobuf\n",
      "|  Transport Headers: {}\n",
      "|  \n",
      "|  Using a default SpanProcessor. `add_span_processor` will overwrite this default.\n",
      "|  \n",
      "|  ⚠️ WARNING: It is strongly advised to use a BatchSpanProcessor in production environments.\n",
      "\n"
     ]
    }
   ],
   "source": [
    "from phoenix.otel import register\n",
    "import os\n",
    "\n",
    "os.environ[\"PHOENIX_COLLECTOR_ENDPOINT\"] = \"http://localhost:6006\"\n",
    "# configure the Phoenix tracer\n",
    "tracer_provider = register(\n",
    "    auto_instrument=True,\n",
    "    protocol=\"http/protobuf\",\n",
    "    project_name=\"dspy\"\n",
    ")"
   ]
  },
  {
   "cell_type": "code",
   "execution_count": 18,
   "metadata": {},
   "outputs": [],
   "source": [
    "import dspy\n",
    "lm = dspy.LM('openai/gpt-4o-mini', api_key=input(\"API KEY\"))\n",
    "dspy.configure(lm=lm)"
   ]
  },
  {
   "cell_type": "code",
   "execution_count": 33,
   "metadata": {},
   "outputs": [],
   "source": [
    "\n",
    "from typing import Literal\n",
    "\n",
    "class TextClassifier(dspy.Signature):\n",
    "    text: str = dspy.InputField()\n",
    "    classification: Literal['spam', 'ham'] = dspy.OutputField(desc=\"whether a text message is legitimate (ham) or spam\")\n",
    "\n",
    "\n",
    "classify = dspy.Predict(TextClassifier)"
   ]
  },
  {
   "cell_type": "code",
   "execution_count": 26,
   "metadata": {},
   "outputs": [],
   "source": [
    "\n",
    "eval_set = [dspy.Example(text=row[\"text\"], classification=row[\"classification\"]).with_inputs(\"text\") for i, row in dataset.sample(20).iterrows()]\n",
    "train_set = [dspy.Example(text=row[\"text\"], classification=row[\"classification\"]).with_inputs(\"text\") for i, row in dataset.sample(200).iterrows()]"
   ]
  },
  {
   "cell_type": "code",
   "execution_count": 60,
   "metadata": {},
   "outputs": [],
   "source": [
    "my_metric = lambda expected, actual, _ = None: actual.classification == expected.classification\n",
    "evaluate = dspy.Evaluate(\n",
    "    devset=eval_set,\n",
    "    metric=my_metric,\n",
    "    max_errors=1\n",
    ")\n"
   ]
  },
  {
   "cell_type": "code",
   "execution_count": 61,
   "metadata": {},
   "outputs": [
    {
     "name": "stdout",
     "output_type": "stream",
     "text": [
      "Average Metric: 17.00 / 20 (85.0%): 100%|██████████| 20/20 [00:10<00:00,  1.88it/s] "
     ]
    },
    {
     "name": "stderr",
     "output_type": "stream",
     "text": [
      "2025/04/06 11:43:15 INFO dspy.evaluate.evaluate: Average Metric: 17 / 20 (85.0%)\n"
     ]
    },
    {
     "name": "stdout",
     "output_type": "stream",
     "text": [
      "\n"
     ]
    },
    {
     "data": {
      "text/html": [
       "<div>\n",
       "<style scoped>\n",
       "    .dataframe tbody tr th:only-of-type {\n",
       "        vertical-align: middle;\n",
       "    }\n",
       "\n",
       "    .dataframe tbody tr th {\n",
       "        vertical-align: top;\n",
       "    }\n",
       "\n",
       "    .dataframe thead th {\n",
       "        text-align: right;\n",
       "    }\n",
       "</style>\n",
       "<table border=\"1\" class=\"dataframe\">\n",
       "  <thead>\n",
       "    <tr style=\"text-align: right;\">\n",
       "      <th></th>\n",
       "      <th>text</th>\n",
       "      <th>example_classification</th>\n",
       "      <th>pred_classification</th>\n",
       "      <th>&lt;lambda&gt;</th>\n",
       "    </tr>\n",
       "  </thead>\n",
       "  <tbody>\n",
       "    <tr>\n",
       "      <th>0</th>\n",
       "      <td>Sorry i din lock my keypad.</td>\n",
       "      <td>ham</td>\n",
       "      <td>ham</td>\n",
       "      <td>✔️ [True]</td>\n",
       "    </tr>\n",
       "    <tr>\n",
       "      <th>1</th>\n",
       "      <td>Aiyah then i wait lor. Then u entertain me. Hee...</td>\n",
       "      <td>ham</td>\n",
       "      <td>ham</td>\n",
       "      <td>✔️ [True]</td>\n",
       "    </tr>\n",
       "    <tr>\n",
       "      <th>2</th>\n",
       "      <td>Ok lor... But buy wat?</td>\n",
       "      <td>ham</td>\n",
       "      <td>ham</td>\n",
       "      <td>✔️ [True]</td>\n",
       "    </tr>\n",
       "    <tr>\n",
       "      <th>3</th>\n",
       "      <td>Ooooooh I forgot to tell u I can get on yoville on my phone</td>\n",
       "      <td>ham</td>\n",
       "      <td>ham</td>\n",
       "      <td>✔️ [True]</td>\n",
       "    </tr>\n",
       "    <tr>\n",
       "      <th>4</th>\n",
       "      <td>Dad says hurry the hell up</td>\n",
       "      <td>ham</td>\n",
       "      <td>ham</td>\n",
       "      <td>✔️ [True]</td>\n",
       "    </tr>\n",
       "    <tr>\n",
       "      <th>5</th>\n",
       "      <td>First has she gained more than &amp;lt;#&amp;gt; kg since she took in. Sec...</td>\n",
       "      <td>ham</td>\n",
       "      <td>ham</td>\n",
       "      <td>✔️ [True]</td>\n",
       "    </tr>\n",
       "    <tr>\n",
       "      <th>6</th>\n",
       "      <td>December only! Had your mobile 11mths+? You are entitled to update...</td>\n",
       "      <td>spam</td>\n",
       "      <td>spam</td>\n",
       "      <td>✔️ [True]</td>\n",
       "    </tr>\n",
       "    <tr>\n",
       "      <th>7</th>\n",
       "      <td>You intrepid duo you! Have a great time and see you both soon.</td>\n",
       "      <td>ham</td>\n",
       "      <td>ham</td>\n",
       "      <td>✔️ [True]</td>\n",
       "    </tr>\n",
       "    <tr>\n",
       "      <th>8</th>\n",
       "      <td>Still i have not checked it da. . .</td>\n",
       "      <td>ham</td>\n",
       "      <td>ham</td>\n",
       "      <td>✔️ [True]</td>\n",
       "    </tr>\n",
       "    <tr>\n",
       "      <th>9</th>\n",
       "      <td>When u love someone Dont make them to love u as much as u do. But ...</td>\n",
       "      <td>ham</td>\n",
       "      <td>ham</td>\n",
       "      <td>✔️ [True]</td>\n",
       "    </tr>\n",
       "    <tr>\n",
       "      <th>10</th>\n",
       "      <td>Happy New Year Princess!</td>\n",
       "      <td>ham</td>\n",
       "      <td>ham</td>\n",
       "      <td>✔️ [True]</td>\n",
       "    </tr>\n",
       "    <tr>\n",
       "      <th>11</th>\n",
       "      <td>Are you sure you don't mean \"get here, we made you hold all the weed\"</td>\n",
       "      <td>ham</td>\n",
       "      <td>ham</td>\n",
       "      <td>✔️ [True]</td>\n",
       "    </tr>\n",
       "    <tr>\n",
       "      <th>12</th>\n",
       "      <td>How's it going? Got any exciting karaoke type activities planned? ...</td>\n",
       "      <td>ham</td>\n",
       "      <td>ham</td>\n",
       "      <td>✔️ [True]</td>\n",
       "    </tr>\n",
       "    <tr>\n",
       "      <th>13</th>\n",
       "      <td>Hope you are having a great day.</td>\n",
       "      <td>ham</td>\n",
       "      <td>ham</td>\n",
       "      <td>✔️ [True]</td>\n",
       "    </tr>\n",
       "    <tr>\n",
       "      <th>14</th>\n",
       "      <td>Din i tell u jus now 420</td>\n",
       "      <td>ham</td>\n",
       "      <td>spam</td>\n",
       "      <td></td>\n",
       "    </tr>\n",
       "    <tr>\n",
       "      <th>15</th>\n",
       "      <td>Purity of friendship between two is not about smiling after readin...</td>\n",
       "      <td>ham</td>\n",
       "      <td>ham</td>\n",
       "      <td>✔️ [True]</td>\n",
       "    </tr>\n",
       "    <tr>\n",
       "      <th>16</th>\n",
       "      <td>chile, please! It's only a  &amp;lt;DECIMAL&amp;gt;  hour drive for me. I ...</td>\n",
       "      <td>ham</td>\n",
       "      <td>ham</td>\n",
       "      <td>✔️ [True]</td>\n",
       "    </tr>\n",
       "    <tr>\n",
       "      <th>17</th>\n",
       "      <td>Umma my life and vava umma love you lot dear</td>\n",
       "      <td>ham</td>\n",
       "      <td>ham</td>\n",
       "      <td>✔️ [True]</td>\n",
       "    </tr>\n",
       "    <tr>\n",
       "      <th>18</th>\n",
       "      <td>Come to mu, we're sorting out our narcotics situation</td>\n",
       "      <td>ham</td>\n",
       "      <td>spam</td>\n",
       "      <td></td>\n",
       "    </tr>\n",
       "    <tr>\n",
       "      <th>19</th>\n",
       "      <td>Message:some text missing* Sender:Name Missing* *Number Missing *S...</td>\n",
       "      <td>ham</td>\n",
       "      <td>spam</td>\n",
       "      <td></td>\n",
       "    </tr>\n",
       "  </tbody>\n",
       "</table>\n",
       "</div>"
      ],
      "text/plain": [
       "                                                                     text  \\\n",
       "0                                             Sorry i din lock my keypad.   \n",
       "1                      Aiyah then i wait lor. Then u entertain me. Hee...   \n",
       "2                                                  Ok lor... But buy wat?   \n",
       "3             Ooooooh I forgot to tell u I can get on yoville on my phone   \n",
       "4                                              Dad says hurry the hell up   \n",
       "5   First has she gained more than &lt;#&gt; kg since she took in. Sec...   \n",
       "6   December only! Had your mobile 11mths+? You are entitled to update...   \n",
       "7         You intrepid duo you! Have a great time and see you both soon.    \n",
       "8                                     Still i have not checked it da. . .   \n",
       "9   When u love someone Dont make them to love u as much as u do. But ...   \n",
       "10                                               Happy New Year Princess!   \n",
       "11  Are you sure you don't mean \"get here, we made you hold all the weed\"   \n",
       "12  How's it going? Got any exciting karaoke type activities planned? ...   \n",
       "13                                       Hope you are having a great day.   \n",
       "14                                               Din i tell u jus now 420   \n",
       "15  Purity of friendship between two is not about smiling after readin...   \n",
       "16  chile, please! It's only a  &lt;DECIMAL&gt;  hour drive for me. I ...   \n",
       "17                           Umma my life and vava umma love you lot dear   \n",
       "18                  Come to mu, we're sorting out our narcotics situation   \n",
       "19  Message:some text missing* Sender:Name Missing* *Number Missing *S...   \n",
       "\n",
       "   example_classification pred_classification   <lambda>  \n",
       "0                     ham                 ham  ✔️ [True]  \n",
       "1                     ham                 ham  ✔️ [True]  \n",
       "2                     ham                 ham  ✔️ [True]  \n",
       "3                     ham                 ham  ✔️ [True]  \n",
       "4                     ham                 ham  ✔️ [True]  \n",
       "5                     ham                 ham  ✔️ [True]  \n",
       "6                    spam                spam  ✔️ [True]  \n",
       "7                     ham                 ham  ✔️ [True]  \n",
       "8                     ham                 ham  ✔️ [True]  \n",
       "9                     ham                 ham  ✔️ [True]  \n",
       "10                    ham                 ham  ✔️ [True]  \n",
       "11                    ham                 ham  ✔️ [True]  \n",
       "12                    ham                 ham  ✔️ [True]  \n",
       "13                    ham                 ham  ✔️ [True]  \n",
       "14                    ham                spam             \n",
       "15                    ham                 ham  ✔️ [True]  \n",
       "16                    ham                 ham  ✔️ [True]  \n",
       "17                    ham                 ham  ✔️ [True]  \n",
       "18                    ham                spam             \n",
       "19                    ham                spam             "
      ]
     },
     "metadata": {},
     "output_type": "display_data"
    },
    {
     "data": {
      "text/plain": [
       "85.0"
      ]
     },
     "execution_count": 61,
     "metadata": {},
     "output_type": "execute_result"
    }
   ],
   "source": [
    "evaluate(classify, display_table=True, display_progress=True)"
   ]
  },
  {
   "cell_type": "code",
   "execution_count": 37,
   "metadata": {},
   "outputs": [],
   "source": [
    "few_shot = dspy.LabeledFewShot()\n",
    "\n",
    "few_shot_compiled = few_shot.compile(student=classify, trainset=train_set)"
   ]
  },
  {
   "cell_type": "code",
   "execution_count": 62,
   "metadata": {},
   "outputs": [
    {
     "name": "stdout",
     "output_type": "stream",
     "text": [
      "Average Metric: 18.00 / 20 (90.0%): 100%|██████████| 20/20 [00:16<00:00,  1.23it/s] "
     ]
    },
    {
     "name": "stderr",
     "output_type": "stream",
     "text": [
      "2025/04/06 11:43:43 INFO dspy.evaluate.evaluate: Average Metric: 18 / 20 (90.0%)\n"
     ]
    },
    {
     "name": "stdout",
     "output_type": "stream",
     "text": [
      "\n"
     ]
    },
    {
     "data": {
      "text/html": [
       "<div>\n",
       "<style scoped>\n",
       "    .dataframe tbody tr th:only-of-type {\n",
       "        vertical-align: middle;\n",
       "    }\n",
       "\n",
       "    .dataframe tbody tr th {\n",
       "        vertical-align: top;\n",
       "    }\n",
       "\n",
       "    .dataframe thead th {\n",
       "        text-align: right;\n",
       "    }\n",
       "</style>\n",
       "<table border=\"1\" class=\"dataframe\">\n",
       "  <thead>\n",
       "    <tr style=\"text-align: right;\">\n",
       "      <th></th>\n",
       "      <th>text</th>\n",
       "      <th>example_classification</th>\n",
       "      <th>pred_classification</th>\n",
       "      <th>&lt;lambda&gt;</th>\n",
       "    </tr>\n",
       "  </thead>\n",
       "  <tbody>\n",
       "    <tr>\n",
       "      <th>0</th>\n",
       "      <td>Sorry i din lock my keypad.</td>\n",
       "      <td>ham</td>\n",
       "      <td>ham</td>\n",
       "      <td>✔️ [True]</td>\n",
       "    </tr>\n",
       "    <tr>\n",
       "      <th>1</th>\n",
       "      <td>Aiyah then i wait lor. Then u entertain me. Hee...</td>\n",
       "      <td>ham</td>\n",
       "      <td>ham</td>\n",
       "      <td>✔️ [True]</td>\n",
       "    </tr>\n",
       "    <tr>\n",
       "      <th>2</th>\n",
       "      <td>Ok lor... But buy wat?</td>\n",
       "      <td>ham</td>\n",
       "      <td>ham</td>\n",
       "      <td>✔️ [True]</td>\n",
       "    </tr>\n",
       "    <tr>\n",
       "      <th>3</th>\n",
       "      <td>Ooooooh I forgot to tell u I can get on yoville on my phone</td>\n",
       "      <td>ham</td>\n",
       "      <td>ham</td>\n",
       "      <td>✔️ [True]</td>\n",
       "    </tr>\n",
       "    <tr>\n",
       "      <th>4</th>\n",
       "      <td>Dad says hurry the hell up</td>\n",
       "      <td>ham</td>\n",
       "      <td>ham</td>\n",
       "      <td>✔️ [True]</td>\n",
       "    </tr>\n",
       "    <tr>\n",
       "      <th>5</th>\n",
       "      <td>First has she gained more than &amp;lt;#&amp;gt; kg since she took in. Sec...</td>\n",
       "      <td>ham</td>\n",
       "      <td>ham</td>\n",
       "      <td>✔️ [True]</td>\n",
       "    </tr>\n",
       "    <tr>\n",
       "      <th>6</th>\n",
       "      <td>December only! Had your mobile 11mths+? You are entitled to update...</td>\n",
       "      <td>spam</td>\n",
       "      <td>spam</td>\n",
       "      <td>✔️ [True]</td>\n",
       "    </tr>\n",
       "    <tr>\n",
       "      <th>7</th>\n",
       "      <td>You intrepid duo you! Have a great time and see you both soon.</td>\n",
       "      <td>ham</td>\n",
       "      <td>ham</td>\n",
       "      <td>✔️ [True]</td>\n",
       "    </tr>\n",
       "    <tr>\n",
       "      <th>8</th>\n",
       "      <td>Still i have not checked it da. . .</td>\n",
       "      <td>ham</td>\n",
       "      <td>ham</td>\n",
       "      <td>✔️ [True]</td>\n",
       "    </tr>\n",
       "    <tr>\n",
       "      <th>9</th>\n",
       "      <td>When u love someone Dont make them to love u as much as u do. But ...</td>\n",
       "      <td>ham</td>\n",
       "      <td>ham</td>\n",
       "      <td>✔️ [True]</td>\n",
       "    </tr>\n",
       "    <tr>\n",
       "      <th>10</th>\n",
       "      <td>Happy New Year Princess!</td>\n",
       "      <td>ham</td>\n",
       "      <td>ham</td>\n",
       "      <td>✔️ [True]</td>\n",
       "    </tr>\n",
       "    <tr>\n",
       "      <th>11</th>\n",
       "      <td>Are you sure you don't mean \"get here, we made you hold all the weed\"</td>\n",
       "      <td>ham</td>\n",
       "      <td>ham</td>\n",
       "      <td>✔️ [True]</td>\n",
       "    </tr>\n",
       "    <tr>\n",
       "      <th>12</th>\n",
       "      <td>How's it going? Got any exciting karaoke type activities planned? ...</td>\n",
       "      <td>ham</td>\n",
       "      <td>ham</td>\n",
       "      <td>✔️ [True]</td>\n",
       "    </tr>\n",
       "    <tr>\n",
       "      <th>13</th>\n",
       "      <td>Hope you are having a great day.</td>\n",
       "      <td>ham</td>\n",
       "      <td>ham</td>\n",
       "      <td>✔️ [True]</td>\n",
       "    </tr>\n",
       "    <tr>\n",
       "      <th>14</th>\n",
       "      <td>Din i tell u jus now 420</td>\n",
       "      <td>ham</td>\n",
       "      <td>ham</td>\n",
       "      <td>✔️ [True]</td>\n",
       "    </tr>\n",
       "    <tr>\n",
       "      <th>15</th>\n",
       "      <td>Purity of friendship between two is not about smiling after readin...</td>\n",
       "      <td>ham</td>\n",
       "      <td>ham</td>\n",
       "      <td>✔️ [True]</td>\n",
       "    </tr>\n",
       "    <tr>\n",
       "      <th>16</th>\n",
       "      <td>chile, please! It's only a  &amp;lt;DECIMAL&amp;gt;  hour drive for me. I ...</td>\n",
       "      <td>ham</td>\n",
       "      <td>ham</td>\n",
       "      <td>✔️ [True]</td>\n",
       "    </tr>\n",
       "    <tr>\n",
       "      <th>17</th>\n",
       "      <td>Umma my life and vava umma love you lot dear</td>\n",
       "      <td>ham</td>\n",
       "      <td>ham</td>\n",
       "      <td>✔️ [True]</td>\n",
       "    </tr>\n",
       "    <tr>\n",
       "      <th>18</th>\n",
       "      <td>Come to mu, we're sorting out our narcotics situation</td>\n",
       "      <td>ham</td>\n",
       "      <td>spam</td>\n",
       "      <td></td>\n",
       "    </tr>\n",
       "    <tr>\n",
       "      <th>19</th>\n",
       "      <td>Message:some text missing* Sender:Name Missing* *Number Missing *S...</td>\n",
       "      <td>ham</td>\n",
       "      <td>spam</td>\n",
       "      <td></td>\n",
       "    </tr>\n",
       "  </tbody>\n",
       "</table>\n",
       "</div>"
      ],
      "text/plain": [
       "                                                                     text  \\\n",
       "0                                             Sorry i din lock my keypad.   \n",
       "1                      Aiyah then i wait lor. Then u entertain me. Hee...   \n",
       "2                                                  Ok lor... But buy wat?   \n",
       "3             Ooooooh I forgot to tell u I can get on yoville on my phone   \n",
       "4                                              Dad says hurry the hell up   \n",
       "5   First has she gained more than &lt;#&gt; kg since she took in. Sec...   \n",
       "6   December only! Had your mobile 11mths+? You are entitled to update...   \n",
       "7         You intrepid duo you! Have a great time and see you both soon.    \n",
       "8                                     Still i have not checked it da. . .   \n",
       "9   When u love someone Dont make them to love u as much as u do. But ...   \n",
       "10                                               Happy New Year Princess!   \n",
       "11  Are you sure you don't mean \"get here, we made you hold all the weed\"   \n",
       "12  How's it going? Got any exciting karaoke type activities planned? ...   \n",
       "13                                       Hope you are having a great day.   \n",
       "14                                               Din i tell u jus now 420   \n",
       "15  Purity of friendship between two is not about smiling after readin...   \n",
       "16  chile, please! It's only a  &lt;DECIMAL&gt;  hour drive for me. I ...   \n",
       "17                           Umma my life and vava umma love you lot dear   \n",
       "18                  Come to mu, we're sorting out our narcotics situation   \n",
       "19  Message:some text missing* Sender:Name Missing* *Number Missing *S...   \n",
       "\n",
       "   example_classification pred_classification   <lambda>  \n",
       "0                     ham                 ham  ✔️ [True]  \n",
       "1                     ham                 ham  ✔️ [True]  \n",
       "2                     ham                 ham  ✔️ [True]  \n",
       "3                     ham                 ham  ✔️ [True]  \n",
       "4                     ham                 ham  ✔️ [True]  \n",
       "5                     ham                 ham  ✔️ [True]  \n",
       "6                    spam                spam  ✔️ [True]  \n",
       "7                     ham                 ham  ✔️ [True]  \n",
       "8                     ham                 ham  ✔️ [True]  \n",
       "9                     ham                 ham  ✔️ [True]  \n",
       "10                    ham                 ham  ✔️ [True]  \n",
       "11                    ham                 ham  ✔️ [True]  \n",
       "12                    ham                 ham  ✔️ [True]  \n",
       "13                    ham                 ham  ✔️ [True]  \n",
       "14                    ham                 ham  ✔️ [True]  \n",
       "15                    ham                 ham  ✔️ [True]  \n",
       "16                    ham                 ham  ✔️ [True]  \n",
       "17                    ham                 ham  ✔️ [True]  \n",
       "18                    ham                spam             \n",
       "19                    ham                spam             "
      ]
     },
     "metadata": {},
     "output_type": "display_data"
    },
    {
     "data": {
      "text/plain": [
       "90.0"
      ]
     },
     "execution_count": 62,
     "metadata": {},
     "output_type": "execute_result"
    }
   ],
   "source": [
    "evaluate(few_shot_compiled, display_progress=True, display_table=True)"
   ]
  },
  {
   "cell_type": "code",
   "execution_count": 67,
   "metadata": {},
   "outputs": [],
   "source": [
    "few_shot_compiled.save(\"./labeled_few_shot.json\")"
   ]
  },
  {
   "cell_type": "code",
   "execution_count": 45,
   "metadata": {},
   "outputs": [
    {
     "name": "stderr",
     "output_type": "stream",
     "text": [
      "  2%|▏         | 4/200 [00:00<00:03, 55.13it/s]"
     ]
    },
    {
     "name": "stdout",
     "output_type": "stream",
     "text": [
      "Bootstrapped 4 full traces after 4 examples for up to 2 rounds, amounting to 4 attempts.\n"
     ]
    },
    {
     "name": "stderr",
     "output_type": "stream",
     "text": [
      "\n"
     ]
    }
   ],
   "source": [
    "bootstrap_few_shot = dspy.BootstrapFewShot(max_labeled_demos=8, max_rounds=2)\n",
    "\n",
    "bootstrap_few_shot_compiled = bootstrap_few_shot.compile(classify, trainset=train_set)"
   ]
  },
  {
   "cell_type": "code",
   "execution_count": 63,
   "metadata": {},
   "outputs": [
    {
     "name": "stdout",
     "output_type": "stream",
     "text": [
      "  0%|          | 0/20 [00:00<?, ?it/s]"
     ]
    },
    {
     "name": "stdout",
     "output_type": "stream",
     "text": [
      "Average Metric: 19.00 / 20 (95.0%): 100%|██████████| 20/20 [00:15<00:00,  1.31it/s] "
     ]
    },
    {
     "name": "stderr",
     "output_type": "stream",
     "text": [
      "2025/04/06 11:44:22 INFO dspy.evaluate.evaluate: Average Metric: 19 / 20 (95.0%)\n"
     ]
    },
    {
     "name": "stdout",
     "output_type": "stream",
     "text": [
      "\n"
     ]
    },
    {
     "data": {
      "text/html": [
       "<div>\n",
       "<style scoped>\n",
       "    .dataframe tbody tr th:only-of-type {\n",
       "        vertical-align: middle;\n",
       "    }\n",
       "\n",
       "    .dataframe tbody tr th {\n",
       "        vertical-align: top;\n",
       "    }\n",
       "\n",
       "    .dataframe thead th {\n",
       "        text-align: right;\n",
       "    }\n",
       "</style>\n",
       "<table border=\"1\" class=\"dataframe\">\n",
       "  <thead>\n",
       "    <tr style=\"text-align: right;\">\n",
       "      <th></th>\n",
       "      <th>text</th>\n",
       "      <th>example_classification</th>\n",
       "      <th>pred_classification</th>\n",
       "      <th>&lt;lambda&gt;</th>\n",
       "    </tr>\n",
       "  </thead>\n",
       "  <tbody>\n",
       "    <tr>\n",
       "      <th>0</th>\n",
       "      <td>Sorry i din lock my keypad.</td>\n",
       "      <td>ham</td>\n",
       "      <td>ham</td>\n",
       "      <td>✔️ [True]</td>\n",
       "    </tr>\n",
       "    <tr>\n",
       "      <th>1</th>\n",
       "      <td>Aiyah then i wait lor. Then u entertain me. Hee...</td>\n",
       "      <td>ham</td>\n",
       "      <td>ham</td>\n",
       "      <td>✔️ [True]</td>\n",
       "    </tr>\n",
       "    <tr>\n",
       "      <th>2</th>\n",
       "      <td>Ok lor... But buy wat?</td>\n",
       "      <td>ham</td>\n",
       "      <td>ham</td>\n",
       "      <td>✔️ [True]</td>\n",
       "    </tr>\n",
       "    <tr>\n",
       "      <th>3</th>\n",
       "      <td>Ooooooh I forgot to tell u I can get on yoville on my phone</td>\n",
       "      <td>ham</td>\n",
       "      <td>ham</td>\n",
       "      <td>✔️ [True]</td>\n",
       "    </tr>\n",
       "    <tr>\n",
       "      <th>4</th>\n",
       "      <td>Dad says hurry the hell up</td>\n",
       "      <td>ham</td>\n",
       "      <td>ham</td>\n",
       "      <td>✔️ [True]</td>\n",
       "    </tr>\n",
       "    <tr>\n",
       "      <th>5</th>\n",
       "      <td>First has she gained more than &amp;lt;#&amp;gt; kg since she took in. Sec...</td>\n",
       "      <td>ham</td>\n",
       "      <td>ham</td>\n",
       "      <td>✔️ [True]</td>\n",
       "    </tr>\n",
       "    <tr>\n",
       "      <th>6</th>\n",
       "      <td>December only! Had your mobile 11mths+? You are entitled to update...</td>\n",
       "      <td>spam</td>\n",
       "      <td>spam</td>\n",
       "      <td>✔️ [True]</td>\n",
       "    </tr>\n",
       "    <tr>\n",
       "      <th>7</th>\n",
       "      <td>You intrepid duo you! Have a great time and see you both soon.</td>\n",
       "      <td>ham</td>\n",
       "      <td>ham</td>\n",
       "      <td>✔️ [True]</td>\n",
       "    </tr>\n",
       "    <tr>\n",
       "      <th>8</th>\n",
       "      <td>Still i have not checked it da. . .</td>\n",
       "      <td>ham</td>\n",
       "      <td>ham</td>\n",
       "      <td>✔️ [True]</td>\n",
       "    </tr>\n",
       "    <tr>\n",
       "      <th>9</th>\n",
       "      <td>When u love someone Dont make them to love u as much as u do. But ...</td>\n",
       "      <td>ham</td>\n",
       "      <td>ham</td>\n",
       "      <td>✔️ [True]</td>\n",
       "    </tr>\n",
       "    <tr>\n",
       "      <th>10</th>\n",
       "      <td>Happy New Year Princess!</td>\n",
       "      <td>ham</td>\n",
       "      <td>ham</td>\n",
       "      <td>✔️ [True]</td>\n",
       "    </tr>\n",
       "    <tr>\n",
       "      <th>11</th>\n",
       "      <td>Are you sure you don't mean \"get here, we made you hold all the weed\"</td>\n",
       "      <td>ham</td>\n",
       "      <td>ham</td>\n",
       "      <td>✔️ [True]</td>\n",
       "    </tr>\n",
       "    <tr>\n",
       "      <th>12</th>\n",
       "      <td>How's it going? Got any exciting karaoke type activities planned? ...</td>\n",
       "      <td>ham</td>\n",
       "      <td>ham</td>\n",
       "      <td>✔️ [True]</td>\n",
       "    </tr>\n",
       "    <tr>\n",
       "      <th>13</th>\n",
       "      <td>Hope you are having a great day.</td>\n",
       "      <td>ham</td>\n",
       "      <td>ham</td>\n",
       "      <td>✔️ [True]</td>\n",
       "    </tr>\n",
       "    <tr>\n",
       "      <th>14</th>\n",
       "      <td>Din i tell u jus now 420</td>\n",
       "      <td>ham</td>\n",
       "      <td>ham</td>\n",
       "      <td>✔️ [True]</td>\n",
       "    </tr>\n",
       "    <tr>\n",
       "      <th>15</th>\n",
       "      <td>Purity of friendship between two is not about smiling after readin...</td>\n",
       "      <td>ham</td>\n",
       "      <td>ham</td>\n",
       "      <td>✔️ [True]</td>\n",
       "    </tr>\n",
       "    <tr>\n",
       "      <th>16</th>\n",
       "      <td>chile, please! It's only a  &amp;lt;DECIMAL&amp;gt;  hour drive for me. I ...</td>\n",
       "      <td>ham</td>\n",
       "      <td>ham</td>\n",
       "      <td>✔️ [True]</td>\n",
       "    </tr>\n",
       "    <tr>\n",
       "      <th>17</th>\n",
       "      <td>Umma my life and vava umma love you lot dear</td>\n",
       "      <td>ham</td>\n",
       "      <td>ham</td>\n",
       "      <td>✔️ [True]</td>\n",
       "    </tr>\n",
       "    <tr>\n",
       "      <th>18</th>\n",
       "      <td>Come to mu, we're sorting out our narcotics situation</td>\n",
       "      <td>ham</td>\n",
       "      <td>ham</td>\n",
       "      <td>✔️ [True]</td>\n",
       "    </tr>\n",
       "    <tr>\n",
       "      <th>19</th>\n",
       "      <td>Message:some text missing* Sender:Name Missing* *Number Missing *S...</td>\n",
       "      <td>ham</td>\n",
       "      <td>spam</td>\n",
       "      <td></td>\n",
       "    </tr>\n",
       "  </tbody>\n",
       "</table>\n",
       "</div>"
      ],
      "text/plain": [
       "                                                                     text  \\\n",
       "0                                             Sorry i din lock my keypad.   \n",
       "1                      Aiyah then i wait lor. Then u entertain me. Hee...   \n",
       "2                                                  Ok lor... But buy wat?   \n",
       "3             Ooooooh I forgot to tell u I can get on yoville on my phone   \n",
       "4                                              Dad says hurry the hell up   \n",
       "5   First has she gained more than &lt;#&gt; kg since she took in. Sec...   \n",
       "6   December only! Had your mobile 11mths+? You are entitled to update...   \n",
       "7         You intrepid duo you! Have a great time and see you both soon.    \n",
       "8                                     Still i have not checked it da. . .   \n",
       "9   When u love someone Dont make them to love u as much as u do. But ...   \n",
       "10                                               Happy New Year Princess!   \n",
       "11  Are you sure you don't mean \"get here, we made you hold all the weed\"   \n",
       "12  How's it going? Got any exciting karaoke type activities planned? ...   \n",
       "13                                       Hope you are having a great day.   \n",
       "14                                               Din i tell u jus now 420   \n",
       "15  Purity of friendship between two is not about smiling after readin...   \n",
       "16  chile, please! It's only a  &lt;DECIMAL&gt;  hour drive for me. I ...   \n",
       "17                           Umma my life and vava umma love you lot dear   \n",
       "18                  Come to mu, we're sorting out our narcotics situation   \n",
       "19  Message:some text missing* Sender:Name Missing* *Number Missing *S...   \n",
       "\n",
       "   example_classification pred_classification   <lambda>  \n",
       "0                     ham                 ham  ✔️ [True]  \n",
       "1                     ham                 ham  ✔️ [True]  \n",
       "2                     ham                 ham  ✔️ [True]  \n",
       "3                     ham                 ham  ✔️ [True]  \n",
       "4                     ham                 ham  ✔️ [True]  \n",
       "5                     ham                 ham  ✔️ [True]  \n",
       "6                    spam                spam  ✔️ [True]  \n",
       "7                     ham                 ham  ✔️ [True]  \n",
       "8                     ham                 ham  ✔️ [True]  \n",
       "9                     ham                 ham  ✔️ [True]  \n",
       "10                    ham                 ham  ✔️ [True]  \n",
       "11                    ham                 ham  ✔️ [True]  \n",
       "12                    ham                 ham  ✔️ [True]  \n",
       "13                    ham                 ham  ✔️ [True]  \n",
       "14                    ham                 ham  ✔️ [True]  \n",
       "15                    ham                 ham  ✔️ [True]  \n",
       "16                    ham                 ham  ✔️ [True]  \n",
       "17                    ham                 ham  ✔️ [True]  \n",
       "18                    ham                 ham  ✔️ [True]  \n",
       "19                    ham                spam             "
      ]
     },
     "metadata": {},
     "output_type": "display_data"
    },
    {
     "data": {
      "text/plain": [
       "95.0"
      ]
     },
     "execution_count": 63,
     "metadata": {},
     "output_type": "execute_result"
    }
   ],
   "source": [
    "evaluate(bootstrap_few_shot_compiled, display_progress=True, display_table=True)"
   ]
  },
  {
   "cell_type": "code",
   "execution_count": 41,
   "metadata": {},
   "outputs": [],
   "source": [
    "bootstrap_few_shot_compiled.save(\"./bootstrap-few-shot.json\")"
   ]
  },
  {
   "cell_type": "code",
   "execution_count": null,
   "metadata": {},
   "outputs": [
    {
     "name": "stderr",
     "output_type": "stream",
     "text": [
      "2025/04/06 11:27:21 INFO dspy.teleprompt.mipro_optimizer_v2: \n",
      "==> STEP 1: BOOTSTRAP FEWSHOT EXAMPLES <==\n",
      "2025/04/06 11:27:21 INFO dspy.teleprompt.mipro_optimizer_v2: These will be used as few-shot example candidates for our program and for creating instructions.\n",
      "\n",
      "2025/04/06 11:27:21 INFO dspy.teleprompt.mipro_optimizer_v2: Bootstrapping N=10 sets of demonstrations...\n"
     ]
    },
    {
     "name": "stdout",
     "output_type": "stream",
     "text": [
      "Bootstrapping set 1/10\n",
      "Bootstrapping set 2/10\n",
      "Bootstrapping set 3/10\n"
     ]
    },
    {
     "name": "stderr",
     "output_type": "stream",
     "text": [
      " 10%|█         | 4/40 [00:00<00:00, 40.49it/s]\n"
     ]
    },
    {
     "name": "stdout",
     "output_type": "stream",
     "text": [
      "Bootstrapped 4 full traces after 4 examples for up to 1 rounds, amounting to 4 attempts.\n",
      "Bootstrapping set 4/10\n"
     ]
    },
    {
     "name": "stderr",
     "output_type": "stream",
     "text": [
      "  5%|▌         | 2/40 [00:01<00:30,  1.26it/s]\n"
     ]
    },
    {
     "name": "stdout",
     "output_type": "stream",
     "text": [
      "Bootstrapped 2 full traces after 2 examples for up to 1 rounds, amounting to 2 attempts.\n",
      "Bootstrapping set 5/10\n"
     ]
    },
    {
     "name": "stderr",
     "output_type": "stream",
     "text": [
      "  2%|▎         | 1/40 [00:00<00:27,  1.40it/s]\n"
     ]
    },
    {
     "name": "stdout",
     "output_type": "stream",
     "text": [
      "Bootstrapped 1 full traces after 1 examples for up to 1 rounds, amounting to 1 attempts.\n",
      "Bootstrapping set 6/10\n"
     ]
    },
    {
     "name": "stderr",
     "output_type": "stream",
     "text": [
      "  5%|▌         | 2/40 [00:02<00:42,  1.13s/it]\n"
     ]
    },
    {
     "name": "stdout",
     "output_type": "stream",
     "text": [
      "Bootstrapped 2 full traces after 2 examples for up to 1 rounds, amounting to 2 attempts.\n",
      "Bootstrapping set 7/10\n"
     ]
    },
    {
     "name": "stderr",
     "output_type": "stream",
     "text": [
      "  5%|▌         | 2/40 [00:01<00:24,  1.57it/s]\n"
     ]
    },
    {
     "name": "stdout",
     "output_type": "stream",
     "text": [
      "Bootstrapped 2 full traces after 2 examples for up to 1 rounds, amounting to 2 attempts.\n",
      "Bootstrapping set 8/10\n"
     ]
    },
    {
     "name": "stderr",
     "output_type": "stream",
     "text": [
      "  5%|▌         | 2/40 [00:01<00:27,  1.37it/s]\n"
     ]
    },
    {
     "name": "stdout",
     "output_type": "stream",
     "text": [
      "Bootstrapped 2 full traces after 2 examples for up to 1 rounds, amounting to 2 attempts.\n",
      "Bootstrapping set 9/10\n"
     ]
    },
    {
     "name": "stderr",
     "output_type": "stream",
     "text": [
      "  2%|▎         | 1/40 [00:00<00:23,  1.64it/s]\n"
     ]
    },
    {
     "name": "stdout",
     "output_type": "stream",
     "text": [
      "Bootstrapped 1 full traces after 1 examples for up to 1 rounds, amounting to 1 attempts.\n",
      "Bootstrapping set 10/10\n"
     ]
    },
    {
     "name": "stderr",
     "output_type": "stream",
     "text": [
      "  2%|▎         | 1/40 [00:00<00:31,  1.23it/s]\n",
      "2025/04/06 11:27:29 INFO dspy.teleprompt.mipro_optimizer_v2: \n",
      "==> STEP 2: PROPOSE INSTRUCTION CANDIDATES <==\n",
      "2025/04/06 11:27:29 INFO dspy.teleprompt.mipro_optimizer_v2: We will use the few-shot examples from the previous step, a generated dataset summary, a summary of the program code, and a randomly selected prompting tip to propose instructions.\n",
      "2025/04/06 11:27:29 INFO dspy.teleprompt.mipro_optimizer_v2: \n",
      "Proposing instructions...\n",
      "\n"
     ]
    },
    {
     "name": "stdout",
     "output_type": "stream",
     "text": [
      "Bootstrapped 1 full traces after 1 examples for up to 1 rounds, amounting to 1 attempts.\n"
     ]
    },
    {
     "name": "stderr",
     "output_type": "stream",
     "text": [
      "2025/04/06 11:28:24 INFO dspy.teleprompt.mipro_optimizer_v2: Proposed Instructions for Predictor 0:\n",
      "\n",
      "2025/04/06 11:28:24 INFO dspy.teleprompt.mipro_optimizer_v2: 0: Given the fields `text`, produce the fields `classification`.\n",
      "\n",
      "2025/04/06 11:28:24 INFO dspy.teleprompt.mipro_optimizer_v2: 1: In a world where personal communication is increasingly flooded with unwanted messages, your task is crucial. Given the field `text`, classify the message as either \"ham\" (legitimate communication) or \"spam\" (unwanted content). Your classification will help users navigate their messages effectively, ensuring they receive only the correspondence that matters to them. Analyze the emotional tone, structure, and context of the message to make an accurate determination of its classification.\n",
      "\n",
      "2025/04/06 11:28:24 INFO dspy.teleprompt.mipro_optimizer_v2: 2: Analyze the provided text input and classify it as either \"ham\" or \"spam.\" Consider the emotional tone, personal anecdotes, and contextual cues in the message to determine its classification. Return the classification as the output.\n",
      "\n",
      "2025/04/06 11:28:24 INFO dspy.teleprompt.mipro_optimizer_v2: 3: Analyze the provided text message and classify it as either \"ham\" or \"spam\" based on its content, tone, and emotional cues. Consider factors such as personal anecdotes, emotional tone, and structure to determine the classification.\n",
      "\n",
      "2025/04/06 11:28:24 INFO dspy.teleprompt.mipro_optimizer_v2: 4: Analyze the provided text message and determine whether it is classified as \"ham\" (non-spam) or \"spam\" based on its content and contextual features.\n",
      "\n",
      "2025/04/06 11:28:24 INFO dspy.teleprompt.mipro_optimizer_v2: 5: Analyze the provided text message and classify it as either \"ham\" (indicating it is a legitimate or non-spam message) or \"spam\" (indicating it may be unwanted or promotional content). Consider the emotional tone, personal anecdotes, and structure of the message to make an accurate classification.\n",
      "\n",
      "2025/04/06 11:28:24 INFO dspy.teleprompt.mipro_optimizer_v2: 6: Analyze the provided text input and classify it as either \"ham\" or \"spam\" based on the emotional tone, context, and linguistic features present in the message. Use the characteristics of casual communication for \"ham\" and the structured, promotional nature for \"spam\" to make your determination.\n",
      "\n",
      "2025/04/06 11:28:24 INFO dspy.teleprompt.mipro_optimizer_v2: 7: Analyze the provided text message and classify it as either \"ham\" (legitimate message) or \"spam\" (potentially unsolicited content) based on its tone, structure, and contextual cues.\n",
      "\n",
      "2025/04/06 11:28:24 INFO dspy.teleprompt.mipro_optimizer_v2: 8: Analyze the input text message and classify it as either \"ham\" (non-spam) or \"spam\" based on its content and tone. Provide the classification label that best represents the nature of the message.\n",
      "\n",
      "2025/04/06 11:28:24 INFO dspy.teleprompt.mipro_optimizer_v2: 9: You are a text classification expert. Given the input text, analyze its content and classify it as either \"ham\" (non-spam) or \"spam\" based on linguistic features and contextual cues. Provide the classification result based on your analysis.\n",
      "\n",
      "2025/04/06 11:28:24 INFO dspy.teleprompt.mipro_optimizer_v2: \n",
      "\n",
      "2025/04/06 11:28:24 INFO dspy.teleprompt.mipro_optimizer_v2: ==> STEP 3: FINDING OPTIMAL PROMPT PARAMETERS <==\n",
      "2025/04/06 11:28:24 INFO dspy.teleprompt.mipro_optimizer_v2: We will evaluate the program over a series of trials with different combinations of instructions and few-shot examples to find the optimal combination using Bayesian Optimization.\n",
      "\n",
      "2025/04/06 11:28:24 INFO dspy.teleprompt.mipro_optimizer_v2: == Trial 1 / 34 - Full Evaluation of Default Program ==\n"
     ]
    },
    {
     "name": "stdout",
     "output_type": "stream",
     "text": [
      "Average Metric: 151.00 / 160 (94.4%): 100%|██████████| 160/160 [00:16<00:00,  9.97it/s]"
     ]
    },
    {
     "name": "stderr",
     "output_type": "stream",
     "text": [
      "2025/04/06 11:28:40 INFO dspy.evaluate.evaluate: Average Metric: 151 / 160 (94.4%)\n",
      "2025/04/06 11:28:40 INFO dspy.teleprompt.mipro_optimizer_v2: Default program score: 94.38\n",
      "\n",
      "/home/mchone/Documents/projects/dspy-test/.venv/lib/python3.12/site-packages/optuna/_experimental.py:31: ExperimentalWarning: Argument ``multivariate`` is an experimental feature. The interface can change in the future.\n",
      "  warnings.warn(\n",
      "2025/04/06 11:28:40 INFO dspy.teleprompt.mipro_optimizer_v2: == Trial 2 / 34 - Minibatch ==\n"
     ]
    },
    {
     "name": "stdout",
     "output_type": "stream",
     "text": [
      "\n",
      "Average Metric: 24.00 / 25 (96.0%): 100%|██████████| 25/25 [00:03<00:00,  6.56it/s] "
     ]
    },
    {
     "name": "stderr",
     "output_type": "stream",
     "text": [
      "2025/04/06 11:28:44 INFO dspy.evaluate.evaluate: Average Metric: 24 / 25 (96.0%)\n",
      "2025/04/06 11:28:44 INFO dspy.teleprompt.mipro_optimizer_v2: Score: 96.0 on minibatch of size 25 with parameters ['Predictor 0: Instruction 1', 'Predictor 0: Few-Shot Set 2'].\n",
      "2025/04/06 11:28:44 INFO dspy.teleprompt.mipro_optimizer_v2: Minibatch scores so far: [96.0]\n",
      "2025/04/06 11:28:44 INFO dspy.teleprompt.mipro_optimizer_v2: Full eval scores so far: [94.38]\n",
      "2025/04/06 11:28:44 INFO dspy.teleprompt.mipro_optimizer_v2: Best full score so far: 94.38\n",
      "2025/04/06 11:28:44 INFO dspy.teleprompt.mipro_optimizer_v2: =========================================\n",
      "\n",
      "\n",
      "2025/04/06 11:28:44 INFO dspy.teleprompt.mipro_optimizer_v2: == Trial 3 / 34 - Minibatch ==\n"
     ]
    },
    {
     "name": "stdout",
     "output_type": "stream",
     "text": [
      "\n",
      "Average Metric: 23.00 / 25 (92.0%): 100%|██████████| 25/25 [00:06<00:00,  3.92it/s]"
     ]
    },
    {
     "name": "stderr",
     "output_type": "stream",
     "text": [
      "2025/04/06 11:28:51 INFO dspy.evaluate.evaluate: Average Metric: 23 / 25 (92.0%)\n",
      "2025/04/06 11:28:51 INFO dspy.teleprompt.mipro_optimizer_v2: Score: 92.0 on minibatch of size 25 with parameters ['Predictor 0: Instruction 6', 'Predictor 0: Few-Shot Set 2'].\n",
      "2025/04/06 11:28:51 INFO dspy.teleprompt.mipro_optimizer_v2: Minibatch scores so far: [96.0, 92.0]\n",
      "2025/04/06 11:28:51 INFO dspy.teleprompt.mipro_optimizer_v2: Full eval scores so far: [94.38]\n",
      "2025/04/06 11:28:51 INFO dspy.teleprompt.mipro_optimizer_v2: Best full score so far: 94.38\n",
      "2025/04/06 11:28:51 INFO dspy.teleprompt.mipro_optimizer_v2: =========================================\n",
      "\n",
      "\n",
      "2025/04/06 11:28:51 INFO dspy.teleprompt.mipro_optimizer_v2: == Trial 4 / 34 - Minibatch ==\n"
     ]
    },
    {
     "name": "stdout",
     "output_type": "stream",
     "text": [
      "\n",
      "Average Metric: 24.00 / 25 (96.0%): 100%|██████████| 25/25 [00:03<00:00,  6.85it/s]"
     ]
    },
    {
     "name": "stderr",
     "output_type": "stream",
     "text": [
      "2025/04/06 11:28:54 INFO dspy.evaluate.evaluate: Average Metric: 24 / 25 (96.0%)\n",
      "2025/04/06 11:28:54 INFO dspy.teleprompt.mipro_optimizer_v2: Score: 96.0 on minibatch of size 25 with parameters ['Predictor 0: Instruction 8', 'Predictor 0: Few-Shot Set 6'].\n",
      "2025/04/06 11:28:54 INFO dspy.teleprompt.mipro_optimizer_v2: Minibatch scores so far: [96.0, 92.0, 96.0]\n",
      "2025/04/06 11:28:54 INFO dspy.teleprompt.mipro_optimizer_v2: Full eval scores so far: [94.38]\n",
      "2025/04/06 11:28:54 INFO dspy.teleprompt.mipro_optimizer_v2: Best full score so far: 94.38\n",
      "2025/04/06 11:28:54 INFO dspy.teleprompt.mipro_optimizer_v2: =========================================\n",
      "\n",
      "\n",
      "2025/04/06 11:28:54 INFO dspy.teleprompt.mipro_optimizer_v2: == Trial 5 / 34 - Minibatch ==\n"
     ]
    },
    {
     "name": "stdout",
     "output_type": "stream",
     "text": [
      "\n",
      "Average Metric: 25.00 / 25 (100.0%): 100%|██████████| 25/25 [00:03<00:00,  6.83it/s]"
     ]
    },
    {
     "name": "stderr",
     "output_type": "stream",
     "text": [
      "2025/04/06 11:28:58 INFO dspy.evaluate.evaluate: Average Metric: 25 / 25 (100.0%)\n",
      "2025/04/06 11:28:58 INFO dspy.teleprompt.mipro_optimizer_v2: Score: 100.0 on minibatch of size 25 with parameters ['Predictor 0: Instruction 4', 'Predictor 0: Few-Shot Set 5'].\n",
      "2025/04/06 11:28:58 INFO dspy.teleprompt.mipro_optimizer_v2: Minibatch scores so far: [96.0, 92.0, 96.0, 100.0]\n",
      "2025/04/06 11:28:58 INFO dspy.teleprompt.mipro_optimizer_v2: Full eval scores so far: [94.38]\n",
      "2025/04/06 11:28:58 INFO dspy.teleprompt.mipro_optimizer_v2: Best full score so far: 94.38\n",
      "2025/04/06 11:28:58 INFO dspy.teleprompt.mipro_optimizer_v2: =========================================\n",
      "\n",
      "\n",
      "2025/04/06 11:28:58 INFO dspy.teleprompt.mipro_optimizer_v2: == Trial 6 / 34 - Minibatch ==\n"
     ]
    },
    {
     "name": "stdout",
     "output_type": "stream",
     "text": [
      "\n",
      "Average Metric: 24.00 / 25 (96.0%): 100%|██████████| 25/25 [00:03<00:00,  6.86it/s]\n"
     ]
    },
    {
     "name": "stderr",
     "output_type": "stream",
     "text": [
      "2025/04/06 11:29:02 INFO dspy.evaluate.evaluate: Average Metric: 24 / 25 (96.0%)\n",
      "2025/04/06 11:29:02 INFO dspy.teleprompt.mipro_optimizer_v2: Score: 96.0 on minibatch of size 25 with parameters ['Predictor 0: Instruction 3', 'Predictor 0: Few-Shot Set 8'].\n",
      "2025/04/06 11:29:02 INFO dspy.teleprompt.mipro_optimizer_v2: Minibatch scores so far: [96.0, 92.0, 96.0, 100.0, 96.0]\n",
      "2025/04/06 11:29:02 INFO dspy.teleprompt.mipro_optimizer_v2: Full eval scores so far: [94.38]\n",
      "2025/04/06 11:29:02 INFO dspy.teleprompt.mipro_optimizer_v2: Best full score so far: 94.38\n",
      "2025/04/06 11:29:02 INFO dspy.teleprompt.mipro_optimizer_v2: =========================================\n",
      "\n",
      "\n",
      "2025/04/06 11:29:02 INFO dspy.teleprompt.mipro_optimizer_v2: == Trial 7 / 34 - Minibatch ==\n"
     ]
    },
    {
     "name": "stdout",
     "output_type": "stream",
     "text": [
      "Average Metric: 24.00 / 25 (96.0%): 100%|██████████| 25/25 [00:03<00:00,  6.90it/s]"
     ]
    },
    {
     "name": "stderr",
     "output_type": "stream",
     "text": [
      "2025/04/06 11:29:06 INFO dspy.evaluate.evaluate: Average Metric: 24 / 25 (96.0%)\n",
      "2025/04/06 11:29:06 INFO dspy.teleprompt.mipro_optimizer_v2: Score: 96.0 on minibatch of size 25 with parameters ['Predictor 0: Instruction 2', 'Predictor 0: Few-Shot Set 3'].\n",
      "2025/04/06 11:29:06 INFO dspy.teleprompt.mipro_optimizer_v2: Minibatch scores so far: [96.0, 92.0, 96.0, 100.0, 96.0, 96.0]\n",
      "2025/04/06 11:29:06 INFO dspy.teleprompt.mipro_optimizer_v2: Full eval scores so far: [94.38]\n",
      "2025/04/06 11:29:06 INFO dspy.teleprompt.mipro_optimizer_v2: Best full score so far: 94.38\n",
      "2025/04/06 11:29:06 INFO dspy.teleprompt.mipro_optimizer_v2: =========================================\n",
      "\n",
      "\n",
      "2025/04/06 11:29:06 INFO dspy.teleprompt.mipro_optimizer_v2: == Trial 8 / 34 - Minibatch ==\n"
     ]
    },
    {
     "name": "stdout",
     "output_type": "stream",
     "text": [
      "\n",
      "Average Metric: 24.00 / 25 (96.0%): 100%|██████████| 25/25 [00:09<00:00,  2.77it/s]"
     ]
    },
    {
     "name": "stderr",
     "output_type": "stream",
     "text": [
      "2025/04/06 11:29:15 INFO dspy.evaluate.evaluate: Average Metric: 24 / 25 (96.0%)\n",
      "2025/04/06 11:29:15 INFO dspy.teleprompt.mipro_optimizer_v2: Score: 96.0 on minibatch of size 25 with parameters ['Predictor 0: Instruction 9', 'Predictor 0: Few-Shot Set 5'].\n",
      "2025/04/06 11:29:15 INFO dspy.teleprompt.mipro_optimizer_v2: Minibatch scores so far: [96.0, 92.0, 96.0, 100.0, 96.0, 96.0, 96.0]\n",
      "2025/04/06 11:29:15 INFO dspy.teleprompt.mipro_optimizer_v2: Full eval scores so far: [94.38]\n",
      "2025/04/06 11:29:15 INFO dspy.teleprompt.mipro_optimizer_v2: Best full score so far: 94.38\n",
      "2025/04/06 11:29:15 INFO dspy.teleprompt.mipro_optimizer_v2: =========================================\n",
      "\n",
      "\n",
      "2025/04/06 11:29:15 INFO dspy.teleprompt.mipro_optimizer_v2: == Trial 9 / 34 - Minibatch ==\n"
     ]
    },
    {
     "name": "stdout",
     "output_type": "stream",
     "text": [
      "\n",
      "Average Metric: 23.00 / 25 (92.0%): 100%|██████████| 25/25 [00:12<00:00,  1.98it/s]"
     ]
    },
    {
     "name": "stderr",
     "output_type": "stream",
     "text": [
      "2025/04/06 11:29:27 INFO dspy.evaluate.evaluate: Average Metric: 23 / 25 (92.0%)\n",
      "2025/04/06 11:29:27 INFO dspy.teleprompt.mipro_optimizer_v2: Score: 92.0 on minibatch of size 25 with parameters ['Predictor 0: Instruction 7', 'Predictor 0: Few-Shot Set 4'].\n",
      "2025/04/06 11:29:27 INFO dspy.teleprompt.mipro_optimizer_v2: Minibatch scores so far: [96.0, 92.0, 96.0, 100.0, 96.0, 96.0, 96.0, 92.0]\n",
      "2025/04/06 11:29:27 INFO dspy.teleprompt.mipro_optimizer_v2: Full eval scores so far: [94.38]\n",
      "2025/04/06 11:29:27 INFO dspy.teleprompt.mipro_optimizer_v2: Best full score so far: 94.38\n",
      "2025/04/06 11:29:27 INFO dspy.teleprompt.mipro_optimizer_v2: =========================================\n",
      "\n",
      "\n",
      "2025/04/06 11:29:27 INFO dspy.teleprompt.mipro_optimizer_v2: == Trial 10 / 34 - Minibatch ==\n"
     ]
    },
    {
     "name": "stdout",
     "output_type": "stream",
     "text": [
      "\n",
      "Average Metric: 24.00 / 25 (96.0%): 100%|██████████| 25/25 [00:12<00:00,  2.06it/s] "
     ]
    },
    {
     "name": "stderr",
     "output_type": "stream",
     "text": [
      "2025/04/06 11:29:40 INFO dspy.evaluate.evaluate: Average Metric: 24 / 25 (96.0%)\n",
      "2025/04/06 11:29:40 INFO dspy.teleprompt.mipro_optimizer_v2: Score: 96.0 on minibatch of size 25 with parameters ['Predictor 0: Instruction 0', 'Predictor 0: Few-Shot Set 7'].\n",
      "2025/04/06 11:29:40 INFO dspy.teleprompt.mipro_optimizer_v2: Minibatch scores so far: [96.0, 92.0, 96.0, 100.0, 96.0, 96.0, 96.0, 92.0, 96.0]\n",
      "2025/04/06 11:29:40 INFO dspy.teleprompt.mipro_optimizer_v2: Full eval scores so far: [94.38]\n",
      "2025/04/06 11:29:40 INFO dspy.teleprompt.mipro_optimizer_v2: Best full score so far: 94.38\n",
      "2025/04/06 11:29:40 INFO dspy.teleprompt.mipro_optimizer_v2: ==========================================\n",
      "\n",
      "\n",
      "2025/04/06 11:29:40 INFO dspy.teleprompt.mipro_optimizer_v2: ===== Trial 11 / 34 - Full Evaluation =====\n",
      "2025/04/06 11:29:40 INFO dspy.teleprompt.mipro_optimizer_v2: Doing full eval on next top averaging program (Avg Score: 100.0) from minibatch trials...\n"
     ]
    },
    {
     "name": "stdout",
     "output_type": "stream",
     "text": [
      "\n",
      "Average Metric: 155.00 / 160 (96.9%): 100%|██████████| 160/160 [01:14<00:00,  2.15it/s]"
     ]
    },
    {
     "name": "stderr",
     "output_type": "stream",
     "text": [
      "2025/04/06 11:30:54 INFO dspy.evaluate.evaluate: Average Metric: 155 / 160 (96.9%)\n",
      "2025/04/06 11:30:54 INFO dspy.teleprompt.mipro_optimizer_v2: \u001b[92mNew best full eval score!\u001b[0m Score: 96.88\n",
      "2025/04/06 11:30:54 INFO dspy.teleprompt.mipro_optimizer_v2: Full eval scores so far: [94.38, 96.88]\n",
      "2025/04/06 11:30:54 INFO dspy.teleprompt.mipro_optimizer_v2: Best full score so far: 96.88\n",
      "2025/04/06 11:30:54 INFO dspy.teleprompt.mipro_optimizer_v2: =======================\n",
      "2025/04/06 11:30:54 INFO dspy.teleprompt.mipro_optimizer_v2: \n",
      "\n",
      "2025/04/06 11:30:54 INFO dspy.teleprompt.mipro_optimizer_v2: == Trial 12 / 34 - Minibatch ==\n"
     ]
    },
    {
     "name": "stdout",
     "output_type": "stream",
     "text": [
      "\n",
      "Average Metric: 24.00 / 25 (96.0%): 100%|██████████| 25/25 [00:03<00:00,  6.29it/s] "
     ]
    },
    {
     "name": "stderr",
     "output_type": "stream",
     "text": [
      "2025/04/06 11:30:58 INFO dspy.evaluate.evaluate: Average Metric: 24 / 25 (96.0%)\n",
      "2025/04/06 11:30:58 INFO dspy.teleprompt.mipro_optimizer_v2: Score: 96.0 on minibatch of size 25 with parameters ['Predictor 0: Instruction 4', 'Predictor 0: Few-Shot Set 5'].\n",
      "2025/04/06 11:30:58 INFO dspy.teleprompt.mipro_optimizer_v2: Minibatch scores so far: [96.0, 92.0, 96.0, 100.0, 96.0, 96.0, 96.0, 92.0, 96.0, 96.0]\n",
      "2025/04/06 11:30:58 INFO dspy.teleprompt.mipro_optimizer_v2: Full eval scores so far: [94.38, 96.88]\n",
      "2025/04/06 11:30:58 INFO dspy.teleprompt.mipro_optimizer_v2: Best full score so far: 96.88\n",
      "2025/04/06 11:30:58 INFO dspy.teleprompt.mipro_optimizer_v2: ==========================================\n",
      "\n",
      "\n",
      "2025/04/06 11:30:58 INFO dspy.teleprompt.mipro_optimizer_v2: == Trial 13 / 34 - Minibatch ==\n"
     ]
    },
    {
     "name": "stdout",
     "output_type": "stream",
     "text": [
      "\n",
      "Average Metric: 18.00 / 20 (90.0%):  80%|████████  | 20/25 [00:14<00:02,  1.77it/s]"
     ]
    },
    {
     "name": "stderr",
     "output_type": "stream",
     "text": [
      "2025/04/06 11:31:13 ERROR dspy.utils.parallelizer: Error for Example({'text': 'SMS AUCTION - A BRAND NEW Nokia 7250 is up 4 auction today! Auction is FREE 2 join & take part! Txt NOKIA to 86021 now!', 'classification': 'spam'}) (input_keys={'text'}): litellm.RateLimitError: RateLimitError: OpenAIException - Rate limit reached for gpt-4o-mini in organization org-Cj9hZ8dens3JYF8ae7IcNsL0 on requests per min (RPM): Limit 500, Used 500, Requested 1. Please try again in 120ms. Visit https://platform.openai.com/account/rate-limits to learn more.. Set `provide_traceback=True` for traceback.\n"
     ]
    },
    {
     "name": "stdout",
     "output_type": "stream",
     "text": [
      "Average Metric: 22.00 / 24 (91.7%): 100%|██████████| 25/25 [00:16<00:00,  1.51it/s]"
     ]
    },
    {
     "name": "stderr",
     "output_type": "stream",
     "text": [
      "2025/04/06 11:31:15 INFO dspy.evaluate.evaluate: Average Metric: 22.0 / 25 (88.0%)\n",
      "2025/04/06 11:31:15 INFO dspy.teleprompt.mipro_optimizer_v2: Score: 88.0 on minibatch of size 25 with parameters ['Predictor 0: Instruction 4', 'Predictor 0: Few-Shot Set 7'].\n",
      "2025/04/06 11:31:15 INFO dspy.teleprompt.mipro_optimizer_v2: Minibatch scores so far: [96.0, 92.0, 96.0, 100.0, 96.0, 96.0, 96.0, 92.0, 96.0, 96.0, 88.0]\n",
      "2025/04/06 11:31:15 INFO dspy.teleprompt.mipro_optimizer_v2: Full eval scores so far: [94.38, 96.88]\n",
      "2025/04/06 11:31:15 INFO dspy.teleprompt.mipro_optimizer_v2: Best full score so far: 96.88\n",
      "2025/04/06 11:31:15 INFO dspy.teleprompt.mipro_optimizer_v2: ==========================================\n",
      "\n",
      "\n",
      "2025/04/06 11:31:15 INFO dspy.teleprompt.mipro_optimizer_v2: == Trial 14 / 34 - Minibatch ==\n"
     ]
    },
    {
     "name": "stdout",
     "output_type": "stream",
     "text": [
      "\n",
      "Average Metric: 22.00 / 22 (100.0%):  84%|████████▍ | 21/25 [00:14<00:03,  1.18it/s]"
     ]
    },
    {
     "name": "stderr",
     "output_type": "stream",
     "text": [
      "2025/04/06 11:31:29 ERROR dspy.utils.parallelizer: Error for Example({'text': \"Yeah I think my usual guy's still passed out from last night, if you get ahold of anybody let me know and I'll throw down\", 'classification': 'ham'}) (input_keys={'text'}): litellm.RateLimitError: RateLimitError: OpenAIException - Rate limit reached for gpt-4o-mini in organization org-Cj9hZ8dens3JYF8ae7IcNsL0 on tokens per min (TPM): Limit 200000, Used 198749, Requested 1356. Please try again in 31ms. Visit https://platform.openai.com/account/rate-limits to learn more.. Set `provide_traceback=True` for traceback.\n"
     ]
    },
    {
     "name": "stdout",
     "output_type": "stream",
     "text": [
      "Average Metric: 24.00 / 24 (100.0%): 100%|██████████| 25/25 [00:15<00:00,  1.60it/s]"
     ]
    },
    {
     "name": "stderr",
     "output_type": "stream",
     "text": [
      "2025/04/06 11:31:30 INFO dspy.evaluate.evaluate: Average Metric: 24.0 / 25 (96.0%)\n",
      "2025/04/06 11:31:30 INFO dspy.teleprompt.mipro_optimizer_v2: Score: 96.0 on minibatch of size 25 with parameters ['Predictor 0: Instruction 4', 'Predictor 0: Few-Shot Set 4'].\n",
      "2025/04/06 11:31:30 INFO dspy.teleprompt.mipro_optimizer_v2: Minibatch scores so far: [96.0, 92.0, 96.0, 100.0, 96.0, 96.0, 96.0, 92.0, 96.0, 96.0, 88.0, 96.0]\n",
      "2025/04/06 11:31:30 INFO dspy.teleprompt.mipro_optimizer_v2: Full eval scores so far: [94.38, 96.88]\n",
      "2025/04/06 11:31:30 INFO dspy.teleprompt.mipro_optimizer_v2: Best full score so far: 96.88\n",
      "2025/04/06 11:31:30 INFO dspy.teleprompt.mipro_optimizer_v2: ==========================================\n",
      "\n",
      "\n",
      "2025/04/06 11:31:30 INFO dspy.teleprompt.mipro_optimizer_v2: == Trial 15 / 34 - Minibatch ==\n"
     ]
    },
    {
     "name": "stdout",
     "output_type": "stream",
     "text": [
      "\n",
      "Average Metric: 24.00 / 25 (96.0%): 100%|██████████| 25/25 [00:15<00:00,  1.58it/s] "
     ]
    },
    {
     "name": "stderr",
     "output_type": "stream",
     "text": [
      "2025/04/06 11:31:46 INFO dspy.evaluate.evaluate: Average Metric: 24 / 25 (96.0%)\n",
      "2025/04/06 11:31:46 INFO dspy.teleprompt.mipro_optimizer_v2: Score: 96.0 on minibatch of size 25 with parameters ['Predictor 0: Instruction 4', 'Predictor 0: Few-Shot Set 1'].\n",
      "2025/04/06 11:31:46 INFO dspy.teleprompt.mipro_optimizer_v2: Minibatch scores so far: [96.0, 92.0, 96.0, 100.0, 96.0, 96.0, 96.0, 92.0, 96.0, 96.0, 88.0, 96.0, 96.0]\n",
      "2025/04/06 11:31:46 INFO dspy.teleprompt.mipro_optimizer_v2: Full eval scores so far: [94.38, 96.88]\n",
      "2025/04/06 11:31:46 INFO dspy.teleprompt.mipro_optimizer_v2: Best full score so far: 96.88\n",
      "2025/04/06 11:31:46 INFO dspy.teleprompt.mipro_optimizer_v2: ==========================================\n",
      "\n",
      "\n",
      "2025/04/06 11:31:46 INFO dspy.teleprompt.mipro_optimizer_v2: == Trial 16 / 34 - Minibatch ==\n"
     ]
    },
    {
     "name": "stdout",
     "output_type": "stream",
     "text": [
      "\n",
      "Average Metric: 23.00 / 25 (92.0%): 100%|██████████| 25/25 [00:17<00:00,  1.44it/s] "
     ]
    },
    {
     "name": "stderr",
     "output_type": "stream",
     "text": [
      "2025/04/06 11:32:04 INFO dspy.evaluate.evaluate: Average Metric: 23 / 25 (92.0%)\n",
      "2025/04/06 11:32:04 INFO dspy.teleprompt.mipro_optimizer_v2: Score: 92.0 on minibatch of size 25 with parameters ['Predictor 0: Instruction 5', 'Predictor 0: Few-Shot Set 9'].\n",
      "2025/04/06 11:32:04 INFO dspy.teleprompt.mipro_optimizer_v2: Minibatch scores so far: [96.0, 92.0, 96.0, 100.0, 96.0, 96.0, 96.0, 92.0, 96.0, 96.0, 88.0, 96.0, 96.0, 92.0]\n",
      "2025/04/06 11:32:04 INFO dspy.teleprompt.mipro_optimizer_v2: Full eval scores so far: [94.38, 96.88]\n",
      "2025/04/06 11:32:04 INFO dspy.teleprompt.mipro_optimizer_v2: Best full score so far: 96.88\n",
      "2025/04/06 11:32:04 INFO dspy.teleprompt.mipro_optimizer_v2: ==========================================\n",
      "\n",
      "\n",
      "2025/04/06 11:32:04 INFO dspy.teleprompt.mipro_optimizer_v2: == Trial 17 / 34 - Minibatch ==\n"
     ]
    },
    {
     "name": "stdout",
     "output_type": "stream",
     "text": [
      "\n",
      "Average Metric: 23.00 / 25 (92.0%): 100%|██████████| 25/25 [00:14<00:00,  1.74it/s] "
     ]
    },
    {
     "name": "stderr",
     "output_type": "stream",
     "text": [
      "2025/04/06 11:32:18 INFO dspy.evaluate.evaluate: Average Metric: 23 / 25 (92.0%)\n",
      "2025/04/06 11:32:18 INFO dspy.teleprompt.mipro_optimizer_v2: Score: 92.0 on minibatch of size 25 with parameters ['Predictor 0: Instruction 2', 'Predictor 0: Few-Shot Set 5'].\n",
      "2025/04/06 11:32:18 INFO dspy.teleprompt.mipro_optimizer_v2: Minibatch scores so far: [96.0, 92.0, 96.0, 100.0, 96.0, 96.0, 96.0, 92.0, 96.0, 96.0, 88.0, 96.0, 96.0, 92.0, 92.0]\n",
      "2025/04/06 11:32:18 INFO dspy.teleprompt.mipro_optimizer_v2: Full eval scores so far: [94.38, 96.88]\n",
      "2025/04/06 11:32:18 INFO dspy.teleprompt.mipro_optimizer_v2: Best full score so far: 96.88\n",
      "2025/04/06 11:32:18 INFO dspy.teleprompt.mipro_optimizer_v2: ==========================================\n",
      "\n",
      "\n",
      "2025/04/06 11:32:18 INFO dspy.teleprompt.mipro_optimizer_v2: == Trial 18 / 34 - Minibatch ==\n"
     ]
    },
    {
     "name": "stdout",
     "output_type": "stream",
     "text": [
      "\n",
      "Average Metric: 22.00 / 23 (95.7%):  92%|█████████▏| 23/25 [00:14<00:01,  1.60it/s] "
     ]
    },
    {
     "name": "stderr",
     "output_type": "stream",
     "text": [
      "2025/04/06 11:32:33 ERROR dspy.utils.parallelizer: Error for Example({'text': 'I prefer my free days... Tues, wed, fri oso can... Ü ask those workin lor...', 'classification': 'ham'}) (input_keys={'text'}): litellm.RateLimitError: RateLimitError: OpenAIException - Rate limit reached for gpt-4o-mini in organization org-Cj9hZ8dens3JYF8ae7IcNsL0 on tokens per min (TPM): Limit 200000, Used 198856, Requested 1357. Please try again in 63ms. Visit https://platform.openai.com/account/rate-limits to learn more.. Set `provide_traceback=True` for traceback.\n"
     ]
    },
    {
     "name": "stdout",
     "output_type": "stream",
     "text": [
      "Average Metric: 23.00 / 24 (95.8%): 100%|██████████| 25/25 [00:14<00:00,  1.68it/s]"
     ]
    },
    {
     "name": "stderr",
     "output_type": "stream",
     "text": [
      "2025/04/06 11:32:33 INFO dspy.evaluate.evaluate: Average Metric: 23.0 / 25 (92.0%)\n",
      "2025/04/06 11:32:33 INFO dspy.teleprompt.mipro_optimizer_v2: Score: 92.0 on minibatch of size 25 with parameters ['Predictor 0: Instruction 8', 'Predictor 0: Few-Shot Set 4'].\n",
      "2025/04/06 11:32:33 INFO dspy.teleprompt.mipro_optimizer_v2: Minibatch scores so far: [96.0, 92.0, 96.0, 100.0, 96.0, 96.0, 96.0, 92.0, 96.0, 96.0, 88.0, 96.0, 96.0, 92.0, 92.0, 92.0]\n",
      "2025/04/06 11:32:33 INFO dspy.teleprompt.mipro_optimizer_v2: Full eval scores so far: [94.38, 96.88]\n",
      "2025/04/06 11:32:33 INFO dspy.teleprompt.mipro_optimizer_v2: Best full score so far: 96.88\n",
      "2025/04/06 11:32:33 INFO dspy.teleprompt.mipro_optimizer_v2: ==========================================\n",
      "\n",
      "\n",
      "2025/04/06 11:32:33 INFO dspy.teleprompt.mipro_optimizer_v2: == Trial 19 / 34 - Minibatch ==\n"
     ]
    },
    {
     "name": "stdout",
     "output_type": "stream",
     "text": [
      "\n",
      "Average Metric: 23.00 / 25 (92.0%): 100%|██████████| 25/25 [00:17<00:00,  1.44it/s] "
     ]
    },
    {
     "name": "stderr",
     "output_type": "stream",
     "text": [
      "2025/04/06 11:32:50 INFO dspy.evaluate.evaluate: Average Metric: 23 / 25 (92.0%)\n",
      "2025/04/06 11:32:50 INFO dspy.teleprompt.mipro_optimizer_v2: Score: 92.0 on minibatch of size 25 with parameters ['Predictor 0: Instruction 4', 'Predictor 0: Few-Shot Set 3'].\n",
      "2025/04/06 11:32:50 INFO dspy.teleprompt.mipro_optimizer_v2: Minibatch scores so far: [96.0, 92.0, 96.0, 100.0, 96.0, 96.0, 96.0, 92.0, 96.0, 96.0, 88.0, 96.0, 96.0, 92.0, 92.0, 92.0, 92.0]\n",
      "2025/04/06 11:32:50 INFO dspy.teleprompt.mipro_optimizer_v2: Full eval scores so far: [94.38, 96.88]\n",
      "2025/04/06 11:32:50 INFO dspy.teleprompt.mipro_optimizer_v2: Best full score so far: 96.88\n",
      "2025/04/06 11:32:50 INFO dspy.teleprompt.mipro_optimizer_v2: ==========================================\n",
      "\n",
      "\n",
      "2025/04/06 11:32:50 INFO dspy.teleprompt.mipro_optimizer_v2: == Trial 20 / 34 - Minibatch ==\n"
     ]
    },
    {
     "name": "stdout",
     "output_type": "stream",
     "text": [
      "\n",
      "Average Metric: 25.00 / 25 (100.0%): 100%|██████████| 25/25 [00:14<00:00,  1.73it/s]"
     ]
    },
    {
     "name": "stderr",
     "output_type": "stream",
     "text": [
      "2025/04/06 11:33:05 INFO dspy.evaluate.evaluate: Average Metric: 25 / 25 (100.0%)\n",
      "2025/04/06 11:33:05 INFO dspy.teleprompt.mipro_optimizer_v2: Score: 100.0 on minibatch of size 25 with parameters ['Predictor 0: Instruction 4', 'Predictor 0: Few-Shot Set 9'].\n",
      "2025/04/06 11:33:05 INFO dspy.teleprompt.mipro_optimizer_v2: Minibatch scores so far: [96.0, 92.0, 96.0, 100.0, 96.0, 96.0, 96.0, 92.0, 96.0, 96.0, 88.0, 96.0, 96.0, 92.0, 92.0, 92.0, 92.0, 100.0]\n",
      "2025/04/06 11:33:05 INFO dspy.teleprompt.mipro_optimizer_v2: Full eval scores so far: [94.38, 96.88]\n",
      "2025/04/06 11:33:05 INFO dspy.teleprompt.mipro_optimizer_v2: Best full score so far: 96.88\n",
      "2025/04/06 11:33:05 INFO dspy.teleprompt.mipro_optimizer_v2: ==========================================\n",
      "\n",
      "\n",
      "2025/04/06 11:33:05 INFO dspy.teleprompt.mipro_optimizer_v2: ===== Trial 21 / 34 - Full Evaluation =====\n",
      "2025/04/06 11:33:05 INFO dspy.teleprompt.mipro_optimizer_v2: Doing full eval on next top averaging program (Avg Score: 100.0) from minibatch trials...\n"
     ]
    },
    {
     "name": "stdout",
     "output_type": "stream",
     "text": [
      "\n",
      "Average Metric: 152.00 / 160 (95.0%): 100%|██████████| 160/160 [01:30<00:00,  1.78it/s]"
     ]
    },
    {
     "name": "stderr",
     "output_type": "stream",
     "text": [
      "2025/04/06 11:34:35 INFO dspy.evaluate.evaluate: Average Metric: 152 / 160 (95.0%)\n",
      "2025/04/06 11:34:35 INFO dspy.teleprompt.mipro_optimizer_v2: Full eval scores so far: [94.38, 96.88, 95.0]\n",
      "2025/04/06 11:34:35 INFO dspy.teleprompt.mipro_optimizer_v2: Best full score so far: 96.88\n",
      "2025/04/06 11:34:35 INFO dspy.teleprompt.mipro_optimizer_v2: =======================\n",
      "2025/04/06 11:34:35 INFO dspy.teleprompt.mipro_optimizer_v2: \n",
      "\n",
      "2025/04/06 11:34:35 INFO dspy.teleprompt.mipro_optimizer_v2: == Trial 22 / 34 - Minibatch ==\n"
     ]
    },
    {
     "name": "stdout",
     "output_type": "stream",
     "text": [
      "\n",
      "Average Metric: 23.00 / 25 (92.0%): 100%|██████████| 25/25 [00:02<00:00,  9.37it/s]"
     ]
    },
    {
     "name": "stderr",
     "output_type": "stream",
     "text": [
      "2025/04/06 11:34:38 INFO dspy.evaluate.evaluate: Average Metric: 23 / 25 (92.0%)\n",
      "2025/04/06 11:34:38 INFO dspy.teleprompt.mipro_optimizer_v2: Score: 92.0 on minibatch of size 25 with parameters ['Predictor 0: Instruction 4', 'Predictor 0: Few-Shot Set 9'].\n",
      "2025/04/06 11:34:38 INFO dspy.teleprompt.mipro_optimizer_v2: Minibatch scores so far: [96.0, 92.0, 96.0, 100.0, 96.0, 96.0, 96.0, 92.0, 96.0, 96.0, 88.0, 96.0, 96.0, 92.0, 92.0, 92.0, 92.0, 100.0, 92.0]\n",
      "2025/04/06 11:34:38 INFO dspy.teleprompt.mipro_optimizer_v2: Full eval scores so far: [94.38, 96.88, 95.0]\n",
      "2025/04/06 11:34:38 INFO dspy.teleprompt.mipro_optimizer_v2: Best full score so far: 96.88\n",
      "2025/04/06 11:34:38 INFO dspy.teleprompt.mipro_optimizer_v2: ==========================================\n",
      "\n",
      "\n",
      "2025/04/06 11:34:38 INFO dspy.teleprompt.mipro_optimizer_v2: == Trial 23 / 34 - Minibatch ==\n"
     ]
    },
    {
     "name": "stdout",
     "output_type": "stream",
     "text": [
      "\n",
      "Average Metric: 23.00 / 25 (92.0%): 100%|██████████| 25/25 [00:15<00:00,  1.64it/s] "
     ]
    },
    {
     "name": "stderr",
     "output_type": "stream",
     "text": [
      "2025/04/06 11:34:53 INFO dspy.evaluate.evaluate: Average Metric: 23 / 25 (92.0%)\n",
      "2025/04/06 11:34:53 INFO dspy.teleprompt.mipro_optimizer_v2: Score: 92.0 on minibatch of size 25 with parameters ['Predictor 0: Instruction 7', 'Predictor 0: Few-Shot Set 9'].\n",
      "2025/04/06 11:34:53 INFO dspy.teleprompt.mipro_optimizer_v2: Minibatch scores so far: [96.0, 92.0, 96.0, 100.0, 96.0, 96.0, 96.0, 92.0, 96.0, 96.0, 88.0, 96.0, 96.0, 92.0, 92.0, 92.0, 92.0, 100.0, 92.0, 92.0]\n",
      "2025/04/06 11:34:53 INFO dspy.teleprompt.mipro_optimizer_v2: Full eval scores so far: [94.38, 96.88, 95.0]\n",
      "2025/04/06 11:34:53 INFO dspy.teleprompt.mipro_optimizer_v2: Best full score so far: 96.88\n",
      "2025/04/06 11:34:53 INFO dspy.teleprompt.mipro_optimizer_v2: ==========================================\n",
      "\n",
      "\n",
      "2025/04/06 11:34:53 INFO dspy.teleprompt.mipro_optimizer_v2: == Trial 24 / 34 - Minibatch ==\n"
     ]
    },
    {
     "name": "stdout",
     "output_type": "stream",
     "text": [
      "\n",
      "Average Metric: 24.00 / 25 (96.0%): 100%|██████████| 25/25 [00:14<00:00,  1.73it/s]"
     ]
    },
    {
     "name": "stderr",
     "output_type": "stream",
     "text": [
      "2025/04/06 11:35:08 INFO dspy.evaluate.evaluate: Average Metric: 24 / 25 (96.0%)\n",
      "2025/04/06 11:35:08 INFO dspy.teleprompt.mipro_optimizer_v2: Score: 96.0 on minibatch of size 25 with parameters ['Predictor 0: Instruction 4', 'Predictor 0: Few-Shot Set 6'].\n",
      "2025/04/06 11:35:08 INFO dspy.teleprompt.mipro_optimizer_v2: Minibatch scores so far: [96.0, 92.0, 96.0, 100.0, 96.0, 96.0, 96.0, 92.0, 96.0, 96.0, 88.0, 96.0, 96.0, 92.0, 92.0, 92.0, 92.0, 100.0, 92.0, 92.0, 96.0]\n",
      "2025/04/06 11:35:08 INFO dspy.teleprompt.mipro_optimizer_v2: Full eval scores so far: [94.38, 96.88, 95.0]\n",
      "2025/04/06 11:35:08 INFO dspy.teleprompt.mipro_optimizer_v2: Best full score so far: 96.88\n",
      "2025/04/06 11:35:08 INFO dspy.teleprompt.mipro_optimizer_v2: ==========================================\n",
      "\n",
      "\n",
      "2025/04/06 11:35:08 INFO dspy.teleprompt.mipro_optimizer_v2: == Trial 25 / 34 - Minibatch ==\n"
     ]
    },
    {
     "name": "stdout",
     "output_type": "stream",
     "text": [
      "\n",
      "Average Metric: 25.00 / 25 (100.0%): 100%|██████████| 25/25 [00:17<00:00,  1.43it/s]"
     ]
    },
    {
     "name": "stderr",
     "output_type": "stream",
     "text": [
      "2025/04/06 11:35:25 INFO dspy.evaluate.evaluate: Average Metric: 25 / 25 (100.0%)\n",
      "2025/04/06 11:35:25 INFO dspy.teleprompt.mipro_optimizer_v2: Score: 100.0 on minibatch of size 25 with parameters ['Predictor 0: Instruction 5', 'Predictor 0: Few-Shot Set 5'].\n",
      "2025/04/06 11:35:25 INFO dspy.teleprompt.mipro_optimizer_v2: Minibatch scores so far: [96.0, 92.0, 96.0, 100.0, 96.0, 96.0, 96.0, 92.0, 96.0, 96.0, 88.0, 96.0, 96.0, 92.0, 92.0, 92.0, 92.0, 100.0, 92.0, 92.0, 96.0, 100.0]\n",
      "2025/04/06 11:35:25 INFO dspy.teleprompt.mipro_optimizer_v2: Full eval scores so far: [94.38, 96.88, 95.0]\n",
      "2025/04/06 11:35:25 INFO dspy.teleprompt.mipro_optimizer_v2: Best full score so far: 96.88\n",
      "2025/04/06 11:35:25 INFO dspy.teleprompt.mipro_optimizer_v2: ==========================================\n",
      "\n",
      "\n",
      "2025/04/06 11:35:25 INFO dspy.teleprompt.mipro_optimizer_v2: == Trial 26 / 34 - Minibatch ==\n"
     ]
    },
    {
     "name": "stdout",
     "output_type": "stream",
     "text": [
      "\n",
      "Average Metric: 24.00 / 25 (96.0%): 100%|██████████| 25/25 [00:14<00:00,  1.72it/s]"
     ]
    },
    {
     "name": "stderr",
     "output_type": "stream",
     "text": [
      "2025/04/06 11:35:40 INFO dspy.evaluate.evaluate: Average Metric: 24 / 25 (96.0%)\n",
      "2025/04/06 11:35:40 INFO dspy.teleprompt.mipro_optimizer_v2: Score: 96.0 on minibatch of size 25 with parameters ['Predictor 0: Instruction 5', 'Predictor 0: Few-Shot Set 5'].\n",
      "2025/04/06 11:35:40 INFO dspy.teleprompt.mipro_optimizer_v2: Minibatch scores so far: [96.0, 92.0, 96.0, 100.0, 96.0, 96.0, 96.0, 92.0, 96.0, 96.0, 88.0, 96.0, 96.0, 92.0, 92.0, 92.0, 92.0, 100.0, 92.0, 92.0, 96.0, 100.0, 96.0]\n",
      "2025/04/06 11:35:40 INFO dspy.teleprompt.mipro_optimizer_v2: Full eval scores so far: [94.38, 96.88, 95.0]\n",
      "2025/04/06 11:35:40 INFO dspy.teleprompt.mipro_optimizer_v2: Best full score so far: 96.88\n",
      "2025/04/06 11:35:40 INFO dspy.teleprompt.mipro_optimizer_v2: ==========================================\n",
      "\n",
      "\n",
      "2025/04/06 11:35:40 INFO dspy.teleprompt.mipro_optimizer_v2: == Trial 27 / 34 - Minibatch ==\n"
     ]
    },
    {
     "name": "stdout",
     "output_type": "stream",
     "text": [
      "\n",
      "Average Metric: 25.00 / 25 (100.0%): 100%|██████████| 25/25 [00:15<00:00,  1.60it/s]"
     ]
    },
    {
     "name": "stderr",
     "output_type": "stream",
     "text": [
      "2025/04/06 11:35:56 INFO dspy.evaluate.evaluate: Average Metric: 25 / 25 (100.0%)\n",
      "2025/04/06 11:35:56 INFO dspy.teleprompt.mipro_optimizer_v2: Score: 100.0 on minibatch of size 25 with parameters ['Predictor 0: Instruction 7', 'Predictor 0: Few-Shot Set 5'].\n",
      "2025/04/06 11:35:56 INFO dspy.teleprompt.mipro_optimizer_v2: Minibatch scores so far: [96.0, 92.0, 96.0, 100.0, 96.0, 96.0, 96.0, 92.0, 96.0, 96.0, 88.0, 96.0, 96.0, 92.0, 92.0, 92.0, 92.0, 100.0, 92.0, 92.0, 96.0, 100.0, 96.0, 100.0]\n",
      "2025/04/06 11:35:56 INFO dspy.teleprompt.mipro_optimizer_v2: Full eval scores so far: [94.38, 96.88, 95.0]\n",
      "2025/04/06 11:35:56 INFO dspy.teleprompt.mipro_optimizer_v2: Best full score so far: 96.88\n",
      "2025/04/06 11:35:56 INFO dspy.teleprompt.mipro_optimizer_v2: ==========================================\n",
      "\n",
      "\n",
      "2025/04/06 11:35:56 INFO dspy.teleprompt.mipro_optimizer_v2: == Trial 28 / 34 - Minibatch ==\n"
     ]
    },
    {
     "name": "stdout",
     "output_type": "stream",
     "text": [
      "\n",
      "Average Metric: 24.00 / 25 (96.0%): 100%|██████████| 25/25 [00:13<00:00,  1.86it/s]"
     ]
    },
    {
     "name": "stderr",
     "output_type": "stream",
     "text": [
      "2025/04/06 11:36:09 INFO dspy.evaluate.evaluate: Average Metric: 24 / 25 (96.0%)\n",
      "2025/04/06 11:36:09 INFO dspy.teleprompt.mipro_optimizer_v2: Score: 96.0 on minibatch of size 25 with parameters ['Predictor 0: Instruction 5', 'Predictor 0: Few-Shot Set 8'].\n",
      "2025/04/06 11:36:09 INFO dspy.teleprompt.mipro_optimizer_v2: Minibatch scores so far: [96.0, 92.0, 96.0, 100.0, 96.0, 96.0, 96.0, 92.0, 96.0, 96.0, 88.0, 96.0, 96.0, 92.0, 92.0, 92.0, 92.0, 100.0, 92.0, 92.0, 96.0, 100.0, 96.0, 100.0, 96.0]\n",
      "2025/04/06 11:36:09 INFO dspy.teleprompt.mipro_optimizer_v2: Full eval scores so far: [94.38, 96.88, 95.0]\n",
      "2025/04/06 11:36:09 INFO dspy.teleprompt.mipro_optimizer_v2: Best full score so far: 96.88\n",
      "2025/04/06 11:36:09 INFO dspy.teleprompt.mipro_optimizer_v2: ==========================================\n",
      "\n",
      "\n",
      "2025/04/06 11:36:09 INFO dspy.teleprompt.mipro_optimizer_v2: == Trial 29 / 34 - Minibatch ==\n"
     ]
    },
    {
     "name": "stdout",
     "output_type": "stream",
     "text": [
      "\n",
      "Average Metric: 25.00 / 25 (100.0%): 100%|██████████| 25/25 [00:16<00:00,  1.54it/s]"
     ]
    },
    {
     "name": "stderr",
     "output_type": "stream",
     "text": [
      "2025/04/06 11:36:25 INFO dspy.evaluate.evaluate: Average Metric: 25 / 25 (100.0%)\n",
      "2025/04/06 11:36:25 INFO dspy.teleprompt.mipro_optimizer_v2: Score: 100.0 on minibatch of size 25 with parameters ['Predictor 0: Instruction 0', 'Predictor 0: Few-Shot Set 5'].\n",
      "2025/04/06 11:36:25 INFO dspy.teleprompt.mipro_optimizer_v2: Minibatch scores so far: [96.0, 92.0, 96.0, 100.0, 96.0, 96.0, 96.0, 92.0, 96.0, 96.0, 88.0, 96.0, 96.0, 92.0, 92.0, 92.0, 92.0, 100.0, 92.0, 92.0, 96.0, 100.0, 96.0, 100.0, 96.0, 100.0]\n",
      "2025/04/06 11:36:25 INFO dspy.teleprompt.mipro_optimizer_v2: Full eval scores so far: [94.38, 96.88, 95.0]\n",
      "2025/04/06 11:36:25 INFO dspy.teleprompt.mipro_optimizer_v2: Best full score so far: 96.88\n",
      "2025/04/06 11:36:25 INFO dspy.teleprompt.mipro_optimizer_v2: ==========================================\n",
      "\n",
      "\n",
      "2025/04/06 11:36:25 INFO dspy.teleprompt.mipro_optimizer_v2: == Trial 30 / 34 - Minibatch ==\n"
     ]
    },
    {
     "name": "stdout",
     "output_type": "stream",
     "text": [
      "\n",
      "Average Metric: 23.00 / 25 (92.0%): 100%|██████████| 25/25 [00:03<00:00,  7.02it/s] "
     ]
    },
    {
     "name": "stderr",
     "output_type": "stream",
     "text": [
      "2025/04/06 11:36:29 INFO dspy.evaluate.evaluate: Average Metric: 23 / 25 (92.0%)\n",
      "2025/04/06 11:36:29 INFO dspy.teleprompt.mipro_optimizer_v2: Score: 92.0 on minibatch of size 25 with parameters ['Predictor 0: Instruction 9', 'Predictor 0: Few-Shot Set 0'].\n",
      "2025/04/06 11:36:29 INFO dspy.teleprompt.mipro_optimizer_v2: Minibatch scores so far: [96.0, 92.0, 96.0, 100.0, 96.0, 96.0, 96.0, 92.0, 96.0, 96.0, 88.0, 96.0, 96.0, 92.0, 92.0, 92.0, 92.0, 100.0, 92.0, 92.0, 96.0, 100.0, 96.0, 100.0, 96.0, 100.0, 92.0]\n",
      "2025/04/06 11:36:29 INFO dspy.teleprompt.mipro_optimizer_v2: Full eval scores so far: [94.38, 96.88, 95.0]\n",
      "2025/04/06 11:36:29 INFO dspy.teleprompt.mipro_optimizer_v2: Best full score so far: 96.88\n",
      "2025/04/06 11:36:29 INFO dspy.teleprompt.mipro_optimizer_v2: ==========================================\n",
      "\n",
      "\n",
      "2025/04/06 11:36:29 INFO dspy.teleprompt.mipro_optimizer_v2: ===== Trial 31 / 34 - Full Evaluation =====\n",
      "2025/04/06 11:36:29 INFO dspy.teleprompt.mipro_optimizer_v2: Doing full eval on next top averaging program (Avg Score: 100.0) from minibatch trials...\n"
     ]
    },
    {
     "name": "stdout",
     "output_type": "stream",
     "text": [
      "\n",
      "Average Metric: 69.00 / 71 (97.2%):  44%|████▍     | 71/160 [00:38<00:56,  1.57it/s] "
     ]
    },
    {
     "name": "stderr",
     "output_type": "stream",
     "text": [
      "2025/04/06 11:37:08 ERROR dspy.utils.parallelizer: Error for Example({'text': 'Dear good morning now only i am up', 'classification': 'ham'}) (input_keys={'text'}): litellm.RateLimitError: RateLimitError: OpenAIException - Rate limit reached for gpt-4o-mini in organization org-Cj9hZ8dens3JYF8ae7IcNsL0 on tokens per min (TPM): Limit 200000, Used 198732, Requested 1409. Please try again in 42ms. Visit https://platform.openai.com/account/rate-limits to learn more.. Set `provide_traceback=True` for traceback.\n"
     ]
    },
    {
     "name": "stdout",
     "output_type": "stream",
     "text": [
      "Average Metric: 82.00 / 85 (96.5%):  54%|█████▍    | 86/160 [00:47<00:59,  1.24it/s]"
     ]
    },
    {
     "name": "stderr",
     "output_type": "stream",
     "text": [
      "2025/04/06 11:37:16 ERROR dspy.utils.parallelizer: Error for Example({'text': \"I'm really sorry i won't b able 2 do this friday.hope u can find an alternative.hope yr term's going ok:-)\", 'classification': 'ham'}) (input_keys={'text'}): litellm.RateLimitError: RateLimitError: OpenAIException - Rate limit reached for gpt-4o-mini in organization org-Cj9hZ8dens3JYF8ae7IcNsL0 on tokens per min (TPM): Limit 200000, Used 199718, Requested 1427. Please try again in 343ms. Visit https://platform.openai.com/account/rate-limits to learn more.. Set `provide_traceback=True` for traceback.\n"
     ]
    },
    {
     "name": "stdout",
     "output_type": "stream",
     "text": [
      "Average Metric: 92.00 / 95 (96.8%):  61%|██████    | 97/160 [00:54<00:44,  1.41it/s]"
     ]
    },
    {
     "name": "stderr",
     "output_type": "stream",
     "text": [
      "2025/04/06 11:37:25 ERROR dspy.utils.parallelizer: Error for Example({'text': 'Everybody had fun this evening. Miss you.', 'classification': 'ham'}) (input_keys={'text'}): litellm.RateLimitError: RateLimitError: OpenAIException - Rate limit reached for gpt-4o-mini in organization org-Cj9hZ8dens3JYF8ae7IcNsL0 on tokens per min (TPM): Limit 200000, Used 199318, Requested 1411. Please try again in 218ms. Visit https://platform.openai.com/account/rate-limits to learn more.. Set `provide_traceback=True` for traceback.\n"
     ]
    },
    {
     "name": "stdout",
     "output_type": "stream",
     "text": [
      "Average Metric: 112.00 / 115 (97.4%):  74%|███████▍  | 118/160 [01:06<00:23,  1.78it/s]"
     ]
    },
    {
     "name": "stderr",
     "output_type": "stream",
     "text": [
      "2025/04/06 11:37:36 ERROR dspy.utils.parallelizer: Error for Example({'text': 'Dude u knw also telugu..thts gud..k, gud nyt..', 'classification': 'ham'}) (input_keys={'text'}): litellm.RateLimitError: RateLimitError: OpenAIException - Rate limit reached for gpt-4o-mini in organization org-Cj9hZ8dens3JYF8ae7IcNsL0 on requests per min (RPM): Limit 500, Used 500, Requested 1. Please try again in 120ms. Visit https://platform.openai.com/account/rate-limits to learn more.. Set `provide_traceback=True` for traceback.\n"
     ]
    },
    {
     "name": "stdout",
     "output_type": "stream",
     "text": [
      "Average Metric: 151.00 / 156 (96.8%): 100%|██████████| 160/160 [01:31<00:00,  1.75it/s]"
     ]
    },
    {
     "name": "stderr",
     "output_type": "stream",
     "text": [
      "2025/04/06 11:38:01 INFO dspy.evaluate.evaluate: Average Metric: 151.0 / 160 (94.4%)\n",
      "2025/04/06 11:38:01 INFO dspy.teleprompt.mipro_optimizer_v2: Full eval scores so far: [94.38, 96.88, 95.0, 94.38]\n",
      "2025/04/06 11:38:01 INFO dspy.teleprompt.mipro_optimizer_v2: Best full score so far: 96.88\n",
      "2025/04/06 11:38:01 INFO dspy.teleprompt.mipro_optimizer_v2: =======================\n",
      "2025/04/06 11:38:01 INFO dspy.teleprompt.mipro_optimizer_v2: \n",
      "\n",
      "2025/04/06 11:38:01 INFO dspy.teleprompt.mipro_optimizer_v2: == Trial 32 / 34 - Minibatch ==\n"
     ]
    },
    {
     "name": "stdout",
     "output_type": "stream",
     "text": [
      "\n",
      "Average Metric: 24.00 / 25 (96.0%): 100%|██████████| 25/25 [00:02<00:00,  8.71it/s]"
     ]
    },
    {
     "name": "stderr",
     "output_type": "stream",
     "text": [
      "2025/04/06 11:38:04 INFO dspy.evaluate.evaluate: Average Metric: 24 / 25 (96.0%)\n",
      "2025/04/06 11:38:04 INFO dspy.teleprompt.mipro_optimizer_v2: Score: 96.0 on minibatch of size 25 with parameters ['Predictor 0: Instruction 7', 'Predictor 0: Few-Shot Set 0'].\n",
      "2025/04/06 11:38:04 INFO dspy.teleprompt.mipro_optimizer_v2: Minibatch scores so far: [96.0, 92.0, 96.0, 100.0, 96.0, 96.0, 96.0, 92.0, 96.0, 96.0, 88.0, 96.0, 96.0, 92.0, 92.0, 92.0, 92.0, 100.0, 92.0, 92.0, 96.0, 100.0, 96.0, 100.0, 96.0, 100.0, 92.0, 96.0]\n",
      "2025/04/06 11:38:04 INFO dspy.teleprompt.mipro_optimizer_v2: Full eval scores so far: [94.38, 96.88, 95.0, 94.38]\n",
      "2025/04/06 11:38:04 INFO dspy.teleprompt.mipro_optimizer_v2: Best full score so far: 96.88\n",
      "2025/04/06 11:38:04 INFO dspy.teleprompt.mipro_optimizer_v2: ==========================================\n",
      "\n",
      "\n",
      "2025/04/06 11:38:04 INFO dspy.teleprompt.mipro_optimizer_v2: == Trial 33 / 34 - Minibatch ==\n"
     ]
    },
    {
     "name": "stdout",
     "output_type": "stream",
     "text": [
      "\n",
      "Average Metric: 24.00 / 25 (96.0%): 100%|██████████| 25/25 [00:06<00:00,  3.81it/s] "
     ]
    },
    {
     "name": "stderr",
     "output_type": "stream",
     "text": [
      "2025/04/06 11:38:10 INFO dspy.evaluate.evaluate: Average Metric: 24 / 25 (96.0%)\n",
      "2025/04/06 11:38:10 INFO dspy.teleprompt.mipro_optimizer_v2: Score: 96.0 on minibatch of size 25 with parameters ['Predictor 0: Instruction 7', 'Predictor 0: Few-Shot Set 5'].\n",
      "2025/04/06 11:38:10 INFO dspy.teleprompt.mipro_optimizer_v2: Minibatch scores so far: [96.0, 92.0, 96.0, 100.0, 96.0, 96.0, 96.0, 92.0, 96.0, 96.0, 88.0, 96.0, 96.0, 92.0, 92.0, 92.0, 92.0, 100.0, 92.0, 92.0, 96.0, 100.0, 96.0, 100.0, 96.0, 100.0, 92.0, 96.0, 96.0]\n",
      "2025/04/06 11:38:10 INFO dspy.teleprompt.mipro_optimizer_v2: Full eval scores so far: [94.38, 96.88, 95.0, 94.38]\n",
      "2025/04/06 11:38:10 INFO dspy.teleprompt.mipro_optimizer_v2: Best full score so far: 96.88\n",
      "2025/04/06 11:38:10 INFO dspy.teleprompt.mipro_optimizer_v2: ==========================================\n",
      "\n",
      "\n",
      "2025/04/06 11:38:10 INFO dspy.teleprompt.mipro_optimizer_v2: ===== Trial 34 / 34 - Full Evaluation =====\n",
      "2025/04/06 11:38:10 INFO dspy.teleprompt.mipro_optimizer_v2: Doing full eval on next top averaging program (Avg Score: 100.0) from minibatch trials...\n"
     ]
    },
    {
     "name": "stdout",
     "output_type": "stream",
     "text": [
      "\n",
      "Average Metric: 58.00 / 60 (96.7%):  38%|███▊      | 60/160 [00:34<01:21,  1.22it/s] "
     ]
    },
    {
     "name": "stderr",
     "output_type": "stream",
     "text": [
      "2025/04/06 11:38:46 ERROR dspy.utils.parallelizer: Error for Example({'text': 'YOUR CHANCE TO BE ON A REALITY FANTASY SHOW call now = 08707509020 Just 20p per min NTT Ltd, PO Box 1327 Croydon CR9 5WB 0870 is a national = rate call.', 'classification': 'spam'}) (input_keys={'text'}): litellm.RateLimitError: RateLimitError: OpenAIException - Rate limit reached for gpt-4o-mini in organization org-Cj9hZ8dens3JYF8ae7IcNsL0 on tokens per min (TPM): Limit 200000, Used 199303, Requested 1409. Please try again in 213ms. Visit https://platform.openai.com/account/rate-limits to learn more.. Set `provide_traceback=True` for traceback.\n"
     ]
    },
    {
     "name": "stdout",
     "output_type": "stream",
     "text": [
      "Average Metric: 155.00 / 159 (97.5%): 100%|██████████| 160/160 [01:26<00:00,  1.84it/s]"
     ]
    },
    {
     "name": "stderr",
     "output_type": "stream",
     "text": [
      "2025/04/06 11:39:37 INFO dspy.evaluate.evaluate: Average Metric: 155.0 / 160 (96.9%)\n",
      "2025/04/06 11:39:37 INFO dspy.teleprompt.mipro_optimizer_v2: Full eval scores so far: [94.38, 96.88, 95.0, 94.38, 96.88]\n",
      "2025/04/06 11:39:37 INFO dspy.teleprompt.mipro_optimizer_v2: Best full score so far: 96.88\n",
      "2025/04/06 11:39:37 INFO dspy.teleprompt.mipro_optimizer_v2: =======================\n",
      "2025/04/06 11:39:37 INFO dspy.teleprompt.mipro_optimizer_v2: \n",
      "\n",
      "2025/04/06 11:39:37 INFO dspy.teleprompt.mipro_optimizer_v2: Returning best identified program with score 96.88!\n"
     ]
    },
    {
     "name": "stdout",
     "output_type": "stream",
     "text": [
      "\n"
     ]
    }
   ],
   "source": [
    "mipro = dspy.MIPROv2(my_metric)\n",
    "\n",
    "mipro_compiled = mipro.compile(classify, trainset=train_set)"
   ]
  },
  {
   "cell_type": "code",
   "execution_count": 64,
   "metadata": {},
   "outputs": [
    {
     "name": "stdout",
     "output_type": "stream",
     "text": [
      "Average Metric: 20.00 / 20 (100.0%): 100%|██████████| 20/20 [00:12<00:00,  1.54it/s]"
     ]
    },
    {
     "name": "stderr",
     "output_type": "stream",
     "text": [
      "2025/04/06 11:45:43 INFO dspy.evaluate.evaluate: Average Metric: 20 / 20 (100.0%)\n"
     ]
    },
    {
     "name": "stdout",
     "output_type": "stream",
     "text": [
      "\n"
     ]
    },
    {
     "data": {
      "text/html": [
       "<div>\n",
       "<style scoped>\n",
       "    .dataframe tbody tr th:only-of-type {\n",
       "        vertical-align: middle;\n",
       "    }\n",
       "\n",
       "    .dataframe tbody tr th {\n",
       "        vertical-align: top;\n",
       "    }\n",
       "\n",
       "    .dataframe thead th {\n",
       "        text-align: right;\n",
       "    }\n",
       "</style>\n",
       "<table border=\"1\" class=\"dataframe\">\n",
       "  <thead>\n",
       "    <tr style=\"text-align: right;\">\n",
       "      <th></th>\n",
       "      <th>text</th>\n",
       "      <th>example_classification</th>\n",
       "      <th>pred_classification</th>\n",
       "      <th>&lt;lambda&gt;</th>\n",
       "    </tr>\n",
       "  </thead>\n",
       "  <tbody>\n",
       "    <tr>\n",
       "      <th>0</th>\n",
       "      <td>Sorry i din lock my keypad.</td>\n",
       "      <td>ham</td>\n",
       "      <td>ham</td>\n",
       "      <td>✔️ [True]</td>\n",
       "    </tr>\n",
       "    <tr>\n",
       "      <th>1</th>\n",
       "      <td>Aiyah then i wait lor. Then u entertain me. Hee...</td>\n",
       "      <td>ham</td>\n",
       "      <td>ham</td>\n",
       "      <td>✔️ [True]</td>\n",
       "    </tr>\n",
       "    <tr>\n",
       "      <th>2</th>\n",
       "      <td>Ok lor... But buy wat?</td>\n",
       "      <td>ham</td>\n",
       "      <td>ham</td>\n",
       "      <td>✔️ [True]</td>\n",
       "    </tr>\n",
       "    <tr>\n",
       "      <th>3</th>\n",
       "      <td>Ooooooh I forgot to tell u I can get on yoville on my phone</td>\n",
       "      <td>ham</td>\n",
       "      <td>ham</td>\n",
       "      <td>✔️ [True]</td>\n",
       "    </tr>\n",
       "    <tr>\n",
       "      <th>4</th>\n",
       "      <td>Dad says hurry the hell up</td>\n",
       "      <td>ham</td>\n",
       "      <td>ham</td>\n",
       "      <td>✔️ [True]</td>\n",
       "    </tr>\n",
       "    <tr>\n",
       "      <th>5</th>\n",
       "      <td>First has she gained more than &amp;lt;#&amp;gt; kg since she took in. Sec...</td>\n",
       "      <td>ham</td>\n",
       "      <td>ham</td>\n",
       "      <td>✔️ [True]</td>\n",
       "    </tr>\n",
       "    <tr>\n",
       "      <th>6</th>\n",
       "      <td>December only! Had your mobile 11mths+? You are entitled to update...</td>\n",
       "      <td>spam</td>\n",
       "      <td>spam</td>\n",
       "      <td>✔️ [True]</td>\n",
       "    </tr>\n",
       "    <tr>\n",
       "      <th>7</th>\n",
       "      <td>You intrepid duo you! Have a great time and see you both soon.</td>\n",
       "      <td>ham</td>\n",
       "      <td>ham</td>\n",
       "      <td>✔️ [True]</td>\n",
       "    </tr>\n",
       "    <tr>\n",
       "      <th>8</th>\n",
       "      <td>Still i have not checked it da. . .</td>\n",
       "      <td>ham</td>\n",
       "      <td>ham</td>\n",
       "      <td>✔️ [True]</td>\n",
       "    </tr>\n",
       "    <tr>\n",
       "      <th>9</th>\n",
       "      <td>When u love someone Dont make them to love u as much as u do. But ...</td>\n",
       "      <td>ham</td>\n",
       "      <td>ham</td>\n",
       "      <td>✔️ [True]</td>\n",
       "    </tr>\n",
       "    <tr>\n",
       "      <th>10</th>\n",
       "      <td>Happy New Year Princess!</td>\n",
       "      <td>ham</td>\n",
       "      <td>ham</td>\n",
       "      <td>✔️ [True]</td>\n",
       "    </tr>\n",
       "    <tr>\n",
       "      <th>11</th>\n",
       "      <td>Are you sure you don't mean \"get here, we made you hold all the weed\"</td>\n",
       "      <td>ham</td>\n",
       "      <td>ham</td>\n",
       "      <td>✔️ [True]</td>\n",
       "    </tr>\n",
       "    <tr>\n",
       "      <th>12</th>\n",
       "      <td>How's it going? Got any exciting karaoke type activities planned? ...</td>\n",
       "      <td>ham</td>\n",
       "      <td>ham</td>\n",
       "      <td>✔️ [True]</td>\n",
       "    </tr>\n",
       "    <tr>\n",
       "      <th>13</th>\n",
       "      <td>Hope you are having a great day.</td>\n",
       "      <td>ham</td>\n",
       "      <td>ham</td>\n",
       "      <td>✔️ [True]</td>\n",
       "    </tr>\n",
       "    <tr>\n",
       "      <th>14</th>\n",
       "      <td>Din i tell u jus now 420</td>\n",
       "      <td>ham</td>\n",
       "      <td>ham</td>\n",
       "      <td>✔️ [True]</td>\n",
       "    </tr>\n",
       "    <tr>\n",
       "      <th>15</th>\n",
       "      <td>Purity of friendship between two is not about smiling after readin...</td>\n",
       "      <td>ham</td>\n",
       "      <td>ham</td>\n",
       "      <td>✔️ [True]</td>\n",
       "    </tr>\n",
       "    <tr>\n",
       "      <th>16</th>\n",
       "      <td>chile, please! It's only a  &amp;lt;DECIMAL&amp;gt;  hour drive for me. I ...</td>\n",
       "      <td>ham</td>\n",
       "      <td>ham</td>\n",
       "      <td>✔️ [True]</td>\n",
       "    </tr>\n",
       "    <tr>\n",
       "      <th>17</th>\n",
       "      <td>Umma my life and vava umma love you lot dear</td>\n",
       "      <td>ham</td>\n",
       "      <td>ham</td>\n",
       "      <td>✔️ [True]</td>\n",
       "    </tr>\n",
       "    <tr>\n",
       "      <th>18</th>\n",
       "      <td>Come to mu, we're sorting out our narcotics situation</td>\n",
       "      <td>ham</td>\n",
       "      <td>ham</td>\n",
       "      <td>✔️ [True]</td>\n",
       "    </tr>\n",
       "    <tr>\n",
       "      <th>19</th>\n",
       "      <td>Message:some text missing* Sender:Name Missing* *Number Missing *S...</td>\n",
       "      <td>ham</td>\n",
       "      <td>ham</td>\n",
       "      <td>✔️ [True]</td>\n",
       "    </tr>\n",
       "  </tbody>\n",
       "</table>\n",
       "</div>"
      ],
      "text/plain": [
       "                                                                     text  \\\n",
       "0                                             Sorry i din lock my keypad.   \n",
       "1                      Aiyah then i wait lor. Then u entertain me. Hee...   \n",
       "2                                                  Ok lor... But buy wat?   \n",
       "3             Ooooooh I forgot to tell u I can get on yoville on my phone   \n",
       "4                                              Dad says hurry the hell up   \n",
       "5   First has she gained more than &lt;#&gt; kg since she took in. Sec...   \n",
       "6   December only! Had your mobile 11mths+? You are entitled to update...   \n",
       "7         You intrepid duo you! Have a great time and see you both soon.    \n",
       "8                                     Still i have not checked it da. . .   \n",
       "9   When u love someone Dont make them to love u as much as u do. But ...   \n",
       "10                                               Happy New Year Princess!   \n",
       "11  Are you sure you don't mean \"get here, we made you hold all the weed\"   \n",
       "12  How's it going? Got any exciting karaoke type activities planned? ...   \n",
       "13                                       Hope you are having a great day.   \n",
       "14                                               Din i tell u jus now 420   \n",
       "15  Purity of friendship between two is not about smiling after readin...   \n",
       "16  chile, please! It's only a  &lt;DECIMAL&gt;  hour drive for me. I ...   \n",
       "17                           Umma my life and vava umma love you lot dear   \n",
       "18                  Come to mu, we're sorting out our narcotics situation   \n",
       "19  Message:some text missing* Sender:Name Missing* *Number Missing *S...   \n",
       "\n",
       "   example_classification pred_classification   <lambda>  \n",
       "0                     ham                 ham  ✔️ [True]  \n",
       "1                     ham                 ham  ✔️ [True]  \n",
       "2                     ham                 ham  ✔️ [True]  \n",
       "3                     ham                 ham  ✔️ [True]  \n",
       "4                     ham                 ham  ✔️ [True]  \n",
       "5                     ham                 ham  ✔️ [True]  \n",
       "6                    spam                spam  ✔️ [True]  \n",
       "7                     ham                 ham  ✔️ [True]  \n",
       "8                     ham                 ham  ✔️ [True]  \n",
       "9                     ham                 ham  ✔️ [True]  \n",
       "10                    ham                 ham  ✔️ [True]  \n",
       "11                    ham                 ham  ✔️ [True]  \n",
       "12                    ham                 ham  ✔️ [True]  \n",
       "13                    ham                 ham  ✔️ [True]  \n",
       "14                    ham                 ham  ✔️ [True]  \n",
       "15                    ham                 ham  ✔️ [True]  \n",
       "16                    ham                 ham  ✔️ [True]  \n",
       "17                    ham                 ham  ✔️ [True]  \n",
       "18                    ham                 ham  ✔️ [True]  \n",
       "19                    ham                 ham  ✔️ [True]  "
      ]
     },
     "metadata": {},
     "output_type": "display_data"
    },
    {
     "data": {
      "text/plain": [
       "100.0"
      ]
     },
     "execution_count": 64,
     "metadata": {},
     "output_type": "execute_result"
    }
   ],
   "source": [
    "evaluate(mipro_compiled, display_progress=True, display_table=True)"
   ]
  },
  {
   "cell_type": "code",
   "execution_count": 57,
   "metadata": {},
   "outputs": [],
   "source": [
    "mipro_compiled.save(\"./miprov2.json\")"
   ]
  }
 ],
 "metadata": {
  "kernelspec": {
   "display_name": ".venv",
   "language": "python",
   "name": "python3"
  },
  "language_info": {
   "codemirror_mode": {
    "name": "ipython",
    "version": 3
   },
   "file_extension": ".py",
   "mimetype": "text/x-python",
   "name": "python",
   "nbconvert_exporter": "python",
   "pygments_lexer": "ipython3",
   "version": "3.12.8"
  }
 },
 "nbformat": 4,
 "nbformat_minor": 2
}
